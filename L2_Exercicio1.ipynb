{
  "nbformat": 4,
  "nbformat_minor": 0,
  "metadata": {
    "colab": {
      "name": "L2_Exercicio1.ipynb",
      "provenance": [],
      "toc_visible": true,
      "authorship_tag": "ABX9TyMKV0FJaVC9WzIq3L2FYZ4Z",
      "include_colab_link": true
    },
    "kernelspec": {
      "name": "python3",
      "display_name": "Python 3"
    },
    "language_info": {
      "name": "python"
    }
  },
  "cells": [
    {
      "cell_type": "markdown",
      "metadata": {
        "id": "view-in-github",
        "colab_type": "text"
      },
      "source": [
        "<a href=\"https://colab.research.google.com/github/thaisrezendeb/ufes_machineLearning/blob/main/L2_Exercicio1.ipynb\" target=\"_parent\"><img src=\"https://colab.research.google.com/assets/colab-badge.svg\" alt=\"Open In Colab\"/></a>"
      ]
    },
    {
      "cell_type": "markdown",
      "metadata": {
        "id": "2to3CL9ypxS0"
      },
      "source": [
        "# Parte IV – Métodos de Classificação Baseados em Probabilidade\n",
        "\n",
        "**1) Para a base Car Evaluation (disponível em http://archive.ics.uci.edu/ml/), considerando que o primeiro atributo é x1, o segundo é x2 e assim por diante, estime as probabilidades:**\n",
        "\n",
        "**a) P(x1 = med) e P(x2 = low)**\n"
      ]
    },
    {
      "cell_type": "code",
      "metadata": {
        "id": "F39TSPqi7r3S"
      },
      "source": [
        "import pandas as pd\n",
        "\n",
        "uri = \"https://archive.ics.uci.edu/ml/machine-learning-databases/car/car.data\"\n",
        "car = pd.read_csv(uri, sep=\",\", header=None, \\\n",
        "                  names=['x1', 'x2', 'x3', 'x4', 'x5', 'x6', 'x7'])"
      ],
      "execution_count": null,
      "outputs": []
    },
    {
      "cell_type": "code",
      "metadata": {
        "colab": {
          "base_uri": "https://localhost:8080/"
        },
        "id": "bdn9yT5fqATy",
        "outputId": "20197b20-2cbd-41f4-ab76-8628e7c729c1"
      },
      "source": [
        "#p_x1_med = car[0].value_counts(normalize=True)\n",
        "p1 = car[car['x1'] == 'med'].shape[0] / car.shape[0]\n",
        "print(\"P(x1=med) = {:.2f}%\".format(p1 * 100))\n",
        "\n",
        "p2 = car[car['x2'] == 'low'].shape[0] / car.shape[0]\n",
        "print(\"P(x2=low) = {:.2f}%\".format(p2 * 100))"
      ],
      "execution_count": null,
      "outputs": [
        {
          "output_type": "stream",
          "text": [
            "P(x1=med) = 25.00%\n",
            "P(x2=low) = 25.00%\n"
          ],
          "name": "stdout"
        }
      ]
    },
    {
      "cell_type": "markdown",
      "metadata": {
        "id": "otfr5KWmtdAX"
      },
      "source": [
        "**b) P(x6=high|x3=2) e P(x2=low|x4=4)**"
      ]
    },
    {
      "cell_type": "code",
      "metadata": {
        "colab": {
          "base_uri": "https://localhost:8080/"
        },
        "id": "O3zoycJHtXZB",
        "outputId": "64010f6a-ba1c-4cfa-8b6b-b5704aecb033"
      },
      "source": [
        "# P(x6 = high | x3 = 2) = P(x3 = 2 | x6 = high) * P(x6 = high) / P(x3 = 2)\n",
        "car_b1 = car[car['x3'] == '2']\n",
        "p3 = car_b1[car_b1['x6'] == 'high'].shape[0] / car_b1.shape[0]\n",
        "print(\"P(x6=high|x3=2) = {:.2f}%\".format(p3*100))\n",
        "\n",
        "# P(x2 = low | x4 = 4) = P(x4 = 4 | x2 = low) * P(x2 = low) / P(x4 = 4)\n",
        "car_b2 = car[(car['x4'] == '4')]\n",
        "p4 = car_b2[(car_b2['x2'] == 'low')].shape[0] / car_b2.shape[0]\n",
        "print(\"P(x2=low|x4=4) = {:.2f}%\".format(p4*100))"
      ],
      "execution_count": null,
      "outputs": [
        {
          "output_type": "stream",
          "text": [
            "P(x6=high|x3=2) = 33.33%\n",
            "P(x2=low|x4=4) = 25.00%\n"
          ],
          "name": "stdout"
        }
      ]
    },
    {
      "cell_type": "markdown",
      "metadata": {
        "id": "G1TKg-UpyP_s"
      },
      "source": [
        "**c) P(x1=low|x2=low,X5=small) e P(x4=4|x1=med,X3=2)**"
      ]
    },
    {
      "cell_type": "code",
      "metadata": {
        "colab": {
          "base_uri": "https://localhost:8080/"
        },
        "id": "qyrK3ZohyZd5",
        "outputId": "d23942e4-32a0-4ce9-9851-62f6662424b9"
      },
      "source": [
        "# P(x1 = low | x2 = low, x5 = small) \n",
        "#                     = P(x2 = low, x5 = small | x1 = low) * P(x1 = low) \n",
        "#                                 / P(x2 = low, x5 = small)\n",
        "car_c1 = car[(car['x2'] == 'low') & (car['x5'] == 'small')]\n",
        "p5 = car_c1[car_c1['x1'] == 'low'].shape[0] / car_c1.shape[0]\n",
        "print(\"P(x1=low|x2=low,x5=small) = {:.2f}%\".format(p5*100))\n",
        "\n",
        "# P(x4 = 4 | x1 = med, x3 = 2) \n",
        "#                     = P(x1 = med, x3 = 2 | x4 = 4) * P(x4 = 4) \n",
        "#                                 / P(x1 = med, x3 = 2)\n",
        "car_c2 = car[(car['x1'] == 'med') & (car['x3'] == '2')]\n",
        "p6 = car_c2[car_c2['x4'] == '4'].shape[0] / car_c2.shape[0]\n",
        "print(\"P(x4=4|x1=med,x3=2) = {:.2f}%\".format(p6*100))"
      ],
      "execution_count": null,
      "outputs": [
        {
          "output_type": "stream",
          "text": [
            "P(x1=low|x2=low,x5=small) = 25.00%\n",
            "P(x4=4|x1=med,x3=2) = 33.33%\n"
          ],
          "name": "stdout"
        }
      ]
    },
    {
      "cell_type": "markdown",
      "metadata": {
        "id": "VUNQJ_afzdT0"
      },
      "source": [
        "**d) P(x2= vhigh,X3=2|X4=2) e P(x3=4,x5=med|x1=med)**"
      ]
    },
    {
      "cell_type": "code",
      "metadata": {
        "colab": {
          "base_uri": "https://localhost:8080/"
        },
        "id": "T4VG3BxmzlfV",
        "outputId": "9f253c49-a183-4bb7-b688-145624fa9f70"
      },
      "source": [
        "# P(x2 = vhigh, x3 = 2| x4 = 2) = P(x2 = vhigh | x4 = 2) * P(x3 = 2 | x4 = 2)\n",
        "car_d1 = car[car['x4'] == '2']\n",
        "#p7 = car_d1[(car_d1['x2'] == 'vhigh') & (car_d1['x3'] == '2')].shape[0] / car_d1.shape[0]\n",
        "p7 = (car_d1[car_d1['x2'] == 'vhigh'].shape[0] / car_d1.shape[0]) \\\n",
        "      * (car_d1[car_d1['x3'] == '2'].shape[0] / car_d1.shape[0])\n",
        "print(\"P(x2=vhigh,x3=2|x4=2) = {:.2f}%\".format(p7*100))\n",
        "\n",
        "# P(x3 = 4, x5 = med | x1 = med) = P(x3 = 4 | x1 = med) * P(x5 = med | x1 = med)\n",
        "car_d2 = car[car['x1'] == 'med']\n",
        "#p8 = car_d2[(car_d2['x3'] == '4') & (car_d2['x5'] == 'med')].shape[0] / car_d2.shape[0]\n",
        "p8 = (car_d2[car_d2['x3'] == '4'].shape[0] / car_d2.shape[0]) \\\n",
        "      * (car_d2[car_d2['x5'] == 'med'].shape[0] / car_d2.shape[0])\n",
        "print(\"P(x3=4,x5=med|x1=med) = {:.2f}%\".format(p8*100))"
      ],
      "execution_count": null,
      "outputs": [
        {
          "output_type": "stream",
          "text": [
            "P(x2=vhigh,x3=2|x4=2) = 6.25%\n",
            "P(x3=4,x5=med|x1=med) = 8.33%\n"
          ],
          "name": "stdout"
        }
      ]
    }
  ]
}