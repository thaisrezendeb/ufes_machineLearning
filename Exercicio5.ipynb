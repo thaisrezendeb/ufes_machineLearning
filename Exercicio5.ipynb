{
  "nbformat": 4,
  "nbformat_minor": 0,
  "metadata": {
    "colab": {
      "name": "Exercicio5.ipynb",
      "provenance": [],
      "authorship_tag": "ABX9TyO6W7nhiDBgzgcQ5vGdvksp",
      "include_colab_link": true
    },
    "kernelspec": {
      "name": "python3",
      "display_name": "Python 3"
    },
    "language_info": {
      "name": "python"
    }
  },
  "cells": [
    {
      "cell_type": "markdown",
      "metadata": {
        "id": "view-in-github",
        "colab_type": "text"
      },
      "source": [
        "<a href=\"https://colab.research.google.com/github/thaisrezendeb/ufes_machineLearning/blob/main/Exercicio5.ipynb\" target=\"_parent\"><img src=\"https://colab.research.google.com/assets/colab-badge.svg\" alt=\"Open In Colab\"/></a>"
      ]
    },
    {
      "cell_type": "markdown",
      "metadata": {
        "id": "klLV69LcxjWQ"
      },
      "source": [
        "**5. Para a base de dados Auto MPG (disponibilizada em https://archive.ics.uci.edu/ml/datasets/Auto+MPG) faça:**\n",
        "\n",
        "**a) Baixe o arquivo auto-mpg.data, remova as linhas que tem interrogação (?) e remova a última coluna (por quê?). Com as 150 primeiras linhas obtenha um modelo de regressão linear multivariada para predizer o valor da primeira variável (mpg). Avalie o resultado sobre o restante da base de dados, usando a métrica RMSE.**"
      ]
    },
    {
      "cell_type": "code",
      "metadata": {
        "colab": {
          "base_uri": "https://localhost:8080/"
        },
        "id": "ErWiypU1xgl5",
        "outputId": "df14c9e4-770e-4e5e-d662-41c12e35c09b"
      },
      "source": [
        "import numpy as np\n",
        "import pandas as pd\n",
        "import seaborn as sns\n",
        "\n",
        "pd.set_option('mode.chained_assignment', None)\n",
        "auto_mpg = pd.read_csv(\"auto-mpg.data\", sep=\"\\s+\", header=None)\n",
        "\n",
        "#Remoção da última coluna que possui informação textual irrelevante para a modelagem de dados\n",
        "auto_mpg = auto_mpg.iloc[:,:8]\n",
        "\n",
        "#Exclusão das linhas com interrogação\n",
        "#print(auto_mpg.shape)\n",
        "nan_value = float(\"NaN\")\n",
        "auto_mpg.replace('?', nan_value, inplace=True)\n",
        "auto_mpg.dropna(inplace=True)\n",
        "auto_mpg[3] = pd.to_numeric(auto_mpg[3])\n",
        "#print(auto_mpg.info())\n",
        "\n",
        "#Separação de dados para teste e para treino\n",
        "mpg_train = auto_mpg.iloc[:150]\n",
        "mpg_test = auto_mpg.iloc[150:]\n",
        "\n",
        "#Prepara matriz para calcular coeficientes\n",
        "x = mpg_train\n",
        "t = mpg_train[0]\n",
        "x[0] = 1\n",
        "\n",
        "#Matriz de coeficientes w\n",
        "w = np.dot(np.dot(pd.DataFrame(np.linalg.pinv(np.dot(x.T, x))), x.T), t)\n",
        "print(\"Coeficientes:\", w, \"\\n\")\n",
        "\n",
        "#Métrica RMSE\n",
        "sum_err = 0\n",
        "for i,row in mpg_test.iterrows():\n",
        "  fx = w[0]\n",
        "  for j in range(1, w.size):\n",
        "    fx = fx + (row[j] * w[j])\n",
        "    \n",
        "  sum_err = sum_err + np.power(row[0]-fx, 2)\n",
        "\n",
        "rmse = np.sqrt(sum_err / mpg_test.shape[0])\n",
        "print(\"RMSE amostras de teste = {}\".format(rmse))"
      ],
      "execution_count": null,
      "outputs": [
        {
          "output_type": "stream",
          "text": [
            "Coeficientes: [ 3.04814971e+01 -2.18759449e-01  1.20959497e-03 -2.02132000e-02\n",
            " -3.89301557e-03 -2.28287159e-02  4.25123785e-02  1.37375313e+00] \n",
            "\n",
            "RMSE amostras de teste = 6.24700675673217\n"
          ],
          "name": "stdout"
        }
      ]
    },
    {
      "cell_type": "code",
      "metadata": {
        "id": "lPiDp5f3Jbno"
      },
      "source": [
        "##Código para teste\n",
        "#import numpy as np\n",
        "#from sklearn.linear_model import LinearRegression\n",
        "#X = x\n",
        "#y = t\n",
        "#reg = LinearRegression().fit(X, y)\n",
        "#print(reg.score(X, y))\n",
        "#print(reg.coef_)\n",
        "#print(reg.intercept_)\n",
        "#reg.predict(np.array([[3, 5]]))"
      ],
      "execution_count": null,
      "outputs": []
    },
    {
      "cell_type": "markdown",
      "metadata": {
        "id": "Ct5dnYrOMSMx"
      },
      "source": [
        "**b) Verifique quais são os atributos que estão relacionados com a saída: A partir dos coeficientes obtidos, aplique o teste F de Snedecor sobre cada variável individualmente (conforme nos slides). Indique quais foram os atributos que podem ser desconsiderados. Obtenha sobre o restante da base de dados a métrica RMSE com o modelo sem considerar esses atributos (não precisa estimar um novo modelo, só considere os valores dos coeficientes deles iguais a zero). Compare os resultados obtidos em a) e em b). Considere que os resíduos do modelo possui distribuição aproximadamente normal e que F[1,142] = 3,908.**"
      ]
    },
    {
      "cell_type": "code",
      "metadata": {
        "colab": {
          "base_uri": "https://localhost:8080/"
        },
        "id": "mdJSGSQZMv8F",
        "outputId": "9689ddc3-a0a4-42d3-a85b-bdb0218484b0"
      },
      "source": [
        "#Teste F de Snedecor\n",
        "\n",
        "#Cálculo do resíduo para modelo completo\n",
        "rss = 0\n",
        "for i,row in mpg_train.iterrows():\n",
        "  fx = w[0]\n",
        "  for j in range(1, w.size):\n",
        "    fx = fx + (row[j] * w[j])\n",
        "  \n",
        "  rss = rss + np.power(row[0]-fx, 2)\n",
        "\n",
        "#Calcula Teste F ao remover um atributo por vez\n",
        "wf = np.array(np.zeros((w.size)))\n",
        "for n in range(1,w.size):\n",
        "  \n",
        "  rss0 = 0\n",
        "  np.copyto(wf, w)\n",
        "  wf[n] = 0 #zera fator correspondente ao atributo a ser removido\n",
        "  \n",
        "  for i,row in mpg_train.iterrows():\n",
        "    fx = wf[0]\n",
        "    for j in range(1, wf.size):\n",
        "      fx = fx + (row[j] * wf[j])\n",
        "    \n",
        "    rss0 = rss0 + np.power(row[0]-fx, 2)\n",
        "  \n",
        "  f = ((rss0 - rss)/(w.size - (w.size-2)))/ \\\n",
        "        (rss/(mpg_train.shape[0] - w.size - 1))\n",
        "\n",
        "  msg = \"pode\"\n",
        "  if(f > 3.908):\n",
        "    msg = \"não pode\"\n",
        "  \n",
        "  print(\"Atributo {} {} ser desconsiderado\".format(n, msg))"
      ],
      "execution_count": null,
      "outputs": [
        {
          "output_type": "stream",
          "text": [
            "Atributo 1 não pode ser desconsiderado\n",
            "Atributo 2 pode ser desconsiderado\n",
            "Atributo 3 não pode ser desconsiderado\n",
            "Atributo 4 não pode ser desconsiderado\n",
            "Atributo 5 pode ser desconsiderado\n",
            "Atributo 6 pode ser desconsiderado\n",
            "Atributo 7 pode ser desconsiderado\n"
          ],
          "name": "stdout"
        }
      ]
    },
    {
      "cell_type": "code",
      "metadata": {
        "colab": {
          "base_uri": "https://localhost:8080/"
        },
        "id": "8-ZFQTHdkReu",
        "outputId": "ce9163e4-bf25-4812-9e54-a5233dac6227"
      },
      "source": [
        "#Remoção de atributos que foram desconsiderados pelo teste F de Snedecor\n",
        "np.copyto(wf, w)\n",
        "wf[2] = 0\n",
        "wf[5] = 0\n",
        "wf[6] = 0\n",
        "wf[7] = 0\n",
        "\n",
        "#Métrica RMSE\n",
        "sum_err = 0\n",
        "for i,row in mpg_test.iterrows():\n",
        "  fx = wf[0]\n",
        "  for j in range(1, wf.size):\n",
        "    fx = fx + (row[j-1] * wf[j])\n",
        "    \n",
        "  sum_err = sum_err + np.power(row[0]-fx, 2)\n",
        "\n",
        "rmse = np.sqrt(sum_err / mpg_test.shape[0])\n",
        "print(\"RMSE = {}\".format(rmse))"
      ],
      "execution_count": null,
      "outputs": [
        {
          "output_type": "stream",
          "text": [
            "RMSE = 9.462118886534151\n"
          ],
          "name": "stdout"
        }
      ]
    },
    {
      "cell_type": "markdown",
      "metadata": {
        "id": "C35KVNNGmgBr"
      },
      "source": [
        "Verifica-se que a remoção dos atributos 2, 5, 6 e 7 causaram o aumento do erro quadrático médio (de **6,247** para **9,462**). Portanto, mesmo o teste F de Sneider informando que as componentes podem ser desconsideradas, há uma piora no resultado da classificação."
      ]
    }
  ]
}