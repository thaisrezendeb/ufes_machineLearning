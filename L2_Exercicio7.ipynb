{
  "nbformat": 4,
  "nbformat_minor": 0,
  "metadata": {
    "colab": {
      "name": "L2_Exercicio7.ipynb",
      "provenance": [],
      "authorship_tag": "ABX9TyMu7yxXjW25KFVycxv+307l",
      "include_colab_link": true
    },
    "kernelspec": {
      "name": "python3",
      "display_name": "Python 3"
    },
    "language_info": {
      "name": "python"
    }
  },
  "cells": [
    {
      "cell_type": "markdown",
      "metadata": {
        "id": "view-in-github",
        "colab_type": "text"
      },
      "source": [
        "<a href=\"https://colab.research.google.com/github/thaisrezendeb/ufes_machineLearning/blob/main/L2_Exercicio7.ipynb\" target=\"_parent\"><img src=\"https://colab.research.google.com/assets/colab-badge.svg\" alt=\"Open In Colab\"/></a>"
      ]
    },
    {
      "cell_type": "markdown",
      "metadata": {
        "id": "XC5rohnneni6"
      },
      "source": [
        "**7) Use o Apriori algoritmo para encontrar as regras de associação do conjunto de transações no arquivo transacoes.txt. Considere que os valores iguais a 1 indique a presença do item na transação. Para referência, a primeira coluna é x1, a segunda é x2 e assim em diante. Define os valores de confiança mínima igual a 0,85 e suporte mínimo de 0,5 e encontre as regras de associação. Apresente as regras encontradas.**"
      ]
    },
    {
      "cell_type": "code",
      "metadata": {
        "id": "xUphtkJZei8t"
      },
      "source": [
        "import pandas as pd\n",
        "import numpy as np\n",
        "import itertools\n",
        "\n",
        "conf_min = 0.85\n",
        "sup_min = 0.5\n",
        "\n",
        "colunas = ['x1', 'x2', 'x3', 'x4', 'x5', 'x6', 'x7', \n",
        "           'x8', 'x9', 'x10', 'x11', 'x12', 'x13', 'x14', \n",
        "           'x15', 'x16', 'x17', 'x18', 'x19', 'x20', 'x21']\n",
        "\n",
        "transacoes = pd.read_csv(\"transacoes.txt\", sep=\" \", header=None, names=colunas)"
      ],
      "execution_count": null,
      "outputs": []
    },
    {
      "cell_type": "code",
      "metadata": {
        "id": "1XIloYSHMVXL"
      },
      "source": [
        "def regras_apriori(data, support_min):\n",
        "\n",
        "  support = {}\n",
        "  L = set(data.columns)\n",
        "  \n",
        "  for i in range(1, len(L)+1):\n",
        "    c = list(itertools.combinations(L, i))\n",
        "\n",
        "    L = set()\n",
        "\n",
        "    for j in list(c):\n",
        "      sup = data.loc[:,j].product(axis=1).sum()/len(data.index)\n",
        "      if sup >= support_min:\n",
        "        support[j] = sup\n",
        "        L = set(set(L) | set(j))\n",
        "  \n",
        "  result = pd.DataFrame(list(support.items()), columns=[\"Itens\", \"Suporte\"])\n",
        "\n",
        "  return result"
      ],
      "execution_count": null,
      "outputs": []
    },
    {
      "cell_type": "code",
      "metadata": {
        "id": "khXE8hPHzCOT"
      },
      "source": [
        "def regras_associacao(data, confidence_min):\n",
        "  support = pd.Series(data.Suporte.values, index=data.Itens).to_dict()\n",
        "  L = data.Itens.values\n",
        "  p = list(itertools.permutations(L, 2))\n",
        "\n",
        "  datas = []\n",
        "  \n",
        "  for i in p:\n",
        "    if set(i[0]).issubset(i[1]):\n",
        "      \n",
        "      conf = support[i[1]]/support[i[0]]\n",
        "\n",
        "      if conf >= confidence_min:\n",
        "        j = list(i[1])\n",
        "        for k in list(i[0]):\n",
        "          j.remove(k)\n",
        "        j = tuple(j)\n",
        "        datas.append([i[0], j, support[i[1]], conf])\n",
        "\n",
        "  result = pd.DataFrame(datas, columns=[\"Antecedente\", \n",
        "                                        \"Consequente\", \n",
        "                                        \"Suporte\", \n",
        "                                        \"Confiança\"])\n",
        "  \n",
        "  return result"
      ],
      "execution_count": null,
      "outputs": []
    },
    {
      "cell_type": "code",
      "metadata": {
        "colab": {
          "base_uri": "https://localhost:8080/",
          "height": 269
        },
        "id": "1Og5oyPPqsqj",
        "outputId": "d9907a3b-6bed-4e92-e6a8-5ae7faaa599e"
      },
      "source": [
        "#Verifica regras que atendem a condição de suporte mínimo\n",
        "r = regras_apriori(transacoes, sup_min)\n",
        "r"
      ],
      "execution_count": null,
      "outputs": [
        {
          "output_type": "execute_result",
          "data": {
            "text/html": [
              "<div>\n",
              "<style scoped>\n",
              "    .dataframe tbody tr th:only-of-type {\n",
              "        vertical-align: middle;\n",
              "    }\n",
              "\n",
              "    .dataframe tbody tr th {\n",
              "        vertical-align: top;\n",
              "    }\n",
              "\n",
              "    .dataframe thead th {\n",
              "        text-align: right;\n",
              "    }\n",
              "</style>\n",
              "<table border=\"1\" class=\"dataframe\">\n",
              "  <thead>\n",
              "    <tr style=\"text-align: right;\">\n",
              "      <th></th>\n",
              "      <th>Itens</th>\n",
              "      <th>Suporte</th>\n",
              "    </tr>\n",
              "  </thead>\n",
              "  <tbody>\n",
              "    <tr>\n",
              "      <th>0</th>\n",
              "      <td>(x3,)</td>\n",
              "      <td>1.000000</td>\n",
              "    </tr>\n",
              "    <tr>\n",
              "      <th>1</th>\n",
              "      <td>(x10,)</td>\n",
              "      <td>0.833333</td>\n",
              "    </tr>\n",
              "    <tr>\n",
              "      <th>2</th>\n",
              "      <td>(x20,)</td>\n",
              "      <td>1.000000</td>\n",
              "    </tr>\n",
              "    <tr>\n",
              "      <th>3</th>\n",
              "      <td>(x10, x20)</td>\n",
              "      <td>0.833333</td>\n",
              "    </tr>\n",
              "    <tr>\n",
              "      <th>4</th>\n",
              "      <td>(x10, x3)</td>\n",
              "      <td>0.833333</td>\n",
              "    </tr>\n",
              "    <tr>\n",
              "      <th>5</th>\n",
              "      <td>(x20, x3)</td>\n",
              "      <td>1.000000</td>\n",
              "    </tr>\n",
              "    <tr>\n",
              "      <th>6</th>\n",
              "      <td>(x10, x3, x20)</td>\n",
              "      <td>0.833333</td>\n",
              "    </tr>\n",
              "  </tbody>\n",
              "</table>\n",
              "</div>"
            ],
            "text/plain": [
              "            Itens   Suporte\n",
              "0           (x3,)  1.000000\n",
              "1          (x10,)  0.833333\n",
              "2          (x20,)  1.000000\n",
              "3      (x10, x20)  0.833333\n",
              "4       (x10, x3)  0.833333\n",
              "5       (x20, x3)  1.000000\n",
              "6  (x10, x3, x20)  0.833333"
            ]
          },
          "metadata": {
            "tags": []
          },
          "execution_count": 78
        }
      ]
    },
    {
      "cell_type": "code",
      "metadata": {
        "colab": {
          "base_uri": "https://localhost:8080/",
          "height": 269
        },
        "id": "yRAIZYF7ynxb",
        "outputId": "6b1eb793-a091-4847-c995-3a03df5b105f"
      },
      "source": [
        "#Verifica regras de associação que atendem a necessidade de confiança mínima\n",
        "regras_associacao(r, conf_min)"
      ],
      "execution_count": null,
      "outputs": [
        {
          "output_type": "execute_result",
          "data": {
            "text/html": [
              "<div>\n",
              "<style scoped>\n",
              "    .dataframe tbody tr th:only-of-type {\n",
              "        vertical-align: middle;\n",
              "    }\n",
              "\n",
              "    .dataframe tbody tr th {\n",
              "        vertical-align: top;\n",
              "    }\n",
              "\n",
              "    .dataframe thead th {\n",
              "        text-align: right;\n",
              "    }\n",
              "</style>\n",
              "<table border=\"1\" class=\"dataframe\">\n",
              "  <thead>\n",
              "    <tr style=\"text-align: right;\">\n",
              "      <th></th>\n",
              "      <th>Antecedente</th>\n",
              "      <th>Consequente</th>\n",
              "      <th>Suporte</th>\n",
              "      <th>Confiança</th>\n",
              "    </tr>\n",
              "  </thead>\n",
              "  <tbody>\n",
              "    <tr>\n",
              "      <th>0</th>\n",
              "      <td>(x3,)</td>\n",
              "      <td>(x20,)</td>\n",
              "      <td>1.000000</td>\n",
              "      <td>1.0</td>\n",
              "    </tr>\n",
              "    <tr>\n",
              "      <th>1</th>\n",
              "      <td>(x10,)</td>\n",
              "      <td>(x20,)</td>\n",
              "      <td>0.833333</td>\n",
              "      <td>1.0</td>\n",
              "    </tr>\n",
              "    <tr>\n",
              "      <th>2</th>\n",
              "      <td>(x10,)</td>\n",
              "      <td>(x3,)</td>\n",
              "      <td>0.833333</td>\n",
              "      <td>1.0</td>\n",
              "    </tr>\n",
              "    <tr>\n",
              "      <th>3</th>\n",
              "      <td>(x10,)</td>\n",
              "      <td>(x3, x20)</td>\n",
              "      <td>0.833333</td>\n",
              "      <td>1.0</td>\n",
              "    </tr>\n",
              "    <tr>\n",
              "      <th>4</th>\n",
              "      <td>(x20,)</td>\n",
              "      <td>(x3,)</td>\n",
              "      <td>1.000000</td>\n",
              "      <td>1.0</td>\n",
              "    </tr>\n",
              "    <tr>\n",
              "      <th>5</th>\n",
              "      <td>(x10, x20)</td>\n",
              "      <td>(x3,)</td>\n",
              "      <td>0.833333</td>\n",
              "      <td>1.0</td>\n",
              "    </tr>\n",
              "    <tr>\n",
              "      <th>6</th>\n",
              "      <td>(x10, x3)</td>\n",
              "      <td>(x20,)</td>\n",
              "      <td>0.833333</td>\n",
              "      <td>1.0</td>\n",
              "    </tr>\n",
              "  </tbody>\n",
              "</table>\n",
              "</div>"
            ],
            "text/plain": [
              "  Antecedente Consequente   Suporte  Confiança\n",
              "0       (x3,)      (x20,)  1.000000        1.0\n",
              "1      (x10,)      (x20,)  0.833333        1.0\n",
              "2      (x10,)       (x3,)  0.833333        1.0\n",
              "3      (x10,)   (x3, x20)  0.833333        1.0\n",
              "4      (x20,)       (x3,)  1.000000        1.0\n",
              "5  (x10, x20)       (x3,)  0.833333        1.0\n",
              "6   (x10, x3)      (x20,)  0.833333        1.0"
            ]
          },
          "metadata": {
            "tags": []
          },
          "execution_count": 189
        }
      ]
    },
    {
      "cell_type": "code",
      "metadata": {
        "id": "nnmHVV8GCQbN"
      },
      "source": [
        "##Código de teste\n",
        "#from mlxtend.frequent_patterns import apriori, association_rules\n",
        "\n",
        "#frq_items = apriori(transacoes, min_support=sup_min, use_colnames=True)\n",
        "\n",
        "## Collecting the inferred rules in a dataframe\n",
        "#rules = association_rules(frq_items, metric =\"confidence\", min_threshold = conf_min)\n",
        "#rules = rules.sort_values(['confidence', 'lift'], ascending =[False, False])\n",
        "#rules"
      ],
      "execution_count": null,
      "outputs": []
    }
  ]
}