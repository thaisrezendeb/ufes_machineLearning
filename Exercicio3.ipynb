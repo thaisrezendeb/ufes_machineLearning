{
  "nbformat": 4,
  "nbformat_minor": 0,
  "metadata": {
    "colab": {
      "name": "Exercicio3.ipynb",
      "provenance": [],
      "collapsed_sections": [],
      "toc_visible": true,
      "authorship_tag": "ABX9TyPw8lIQ4eNTEnq30fbPI1w5",
      "include_colab_link": true
    },
    "kernelspec": {
      "name": "python3",
      "display_name": "Python 3"
    },
    "language_info": {
      "name": "python"
    }
  },
  "cells": [
    {
      "cell_type": "markdown",
      "metadata": {
        "id": "view-in-github",
        "colab_type": "text"
      },
      "source": [
        "<a href=\"https://colab.research.google.com/github/thaisrezendeb/ufes_machineLearning/blob/main/Exercicio3.ipynb\" target=\"_parent\"><img src=\"https://colab.research.google.com/assets/colab-badge.svg\" alt=\"Open In Colab\"/></a>"
      ]
    },
    {
      "cell_type": "markdown",
      "metadata": {
        "id": "R6JKXDMNR4Qt"
      },
      "source": [
        "# 3) Dada a base de dados Breast Cancer Wisconsin (Diagnostic) (baixar em\n",
        "https://archive.ics.uci.edu/ml/datasets/Breast+Cancer+Wisconsin+(Diagnostic)):\n",
        "\n",
        "**a) Obtenha a acurácia de classificação quando usando o classificador vizinho mais\n",
        "próximo (NN) (utilize a distância Euclidiana). Use os dados do arquivo wdbc.data,\n",
        "sendo as primeiras 300 amostras para treino e as demais para teste. Antes, repare os\n",
        "atributos da base de dados e a posição dos rótulos. Quais atributos você pode eliminar\n",
        "da base de dados antes do experimento? Por quê?**"
      ]
    },
    {
      "cell_type": "code",
      "metadata": {
        "id": "QTjvXEGrR2SN"
      },
      "source": [
        "import numpy as np\n",
        "import pandas as pd\n",
        "import matplotlib.pyplot as plt\n",
        "import seaborn as sns\n",
        "\n",
        "def vizinho(base_train, base_test):\n",
        "  acuracia = 0\n",
        "\n",
        "  #Cálculo da distância Euclidiana\n",
        "  #Verifica a distância de cada amostra da base de teste com cada uma das amostras da base de treinamento\n",
        "  for i, row in base_test.iterrows():\n",
        "    dist_min = 1000000\n",
        "    classif_new = row[0]\n",
        "    \n",
        "    for j, row_next in base_train.iterrows():\n",
        "      dist = 0\n",
        "      for k in range(1, base_test.shape[1]-1):\n",
        "        dist = dist + np.power(row_next[k]-row[k],2)\n",
        "\n",
        "      dist = np.sqrt(dist)\n",
        "      if dist < dist_min:\n",
        "        dist_min = dist\n",
        "        classif_new = row_next[0]\n",
        "    \n",
        "    if row[0] == classif_new:\n",
        "      acuracia = acuracia + 1\n",
        "\n",
        "  acuracia = np.divide(acuracia, base_test.shape[0])\n",
        "\n",
        "  return acuracia\n",
        "\n",
        "wdbc = pd.read_csv(\"wdbc.data\", sep=\",\", header=None)\n",
        "#wdbc.head()"
      ],
      "execution_count": null,
      "outputs": []
    },
    {
      "cell_type": "markdown",
      "metadata": {
        "id": "1c9Zp4mYdlU_"
      },
      "source": [
        "Pela descrição da base de dados, observa-se que apenas o ID é um atributo que pode ser eliminado. Demais atributos contêm informações técnicas que somente poderiam ser eliminadas com o auxílio de um especialista."
      ]
    },
    {
      "cell_type": "code",
      "metadata": {
        "id": "23w72Am9mOJ-"
      },
      "source": [
        "wdbc_pre = wdbc.drop(0, axis=1)\n",
        "wdbc_pre.columns = range(wdbc_pre.shape[1])\n",
        "wdbc_train = wdbc_pre[:300]\n",
        "wdbc_test = wdbc_pre[300:]\n",
        "#wdbc_train.to_csv(\"wdbc_train.data\", sep=\",\", index=None)"
      ],
      "execution_count": null,
      "outputs": []
    },
    {
      "cell_type": "code",
      "metadata": {
        "colab": {
          "base_uri": "https://localhost:8080/"
        },
        "id": "wzBu4IyMeTTT",
        "outputId": "f40d1060-f586-4215-cf7e-9ecedaefad47"
      },
      "source": [
        "ac_viz = vizinho(wdbc_train, wdbc_test)\n",
        "print(\"Acurácia NN: {:.2f}%\".format(ac_viz*100))"
      ],
      "execution_count": null,
      "outputs": [
        {
          "output_type": "stream",
          "text": [
            "Acurácia NN: 88.48%\n"
          ],
          "name": "stdout"
        }
      ]
    },
    {
      "cell_type": "markdown",
      "metadata": {
        "id": "gGLfMuZKZyPL"
      },
      "source": [
        "A acurácia apresentada na classificação pelo vizinho maisi próximo (NN) foi de **88,48%**."
      ]
    },
    {
      "cell_type": "markdown",
      "metadata": {
        "id": "UTtArQ1tDCjv"
      },
      "source": [
        "**b) gere dois gráficos 2D com os dois componentes principais (uso de PCA) das amostras,\n",
        "identificando cada classe. Para um dos gráficos, obtenha o PCA a partir da matriz de\n",
        "covariância e para o outro realize o branqueamento dos dados (isto é, após a aplicação\n",
        "do PCA garantir que a matriz de covariância dos dados seja uma matriz identidade). O\n",
        "que tem de diferente entre os gráficos? A que conclusão você chegou?**"
      ]
    },
    {
      "cell_type": "code",
      "metadata": {
        "id": "xoZDRz2dDB9L"
      },
      "source": [
        "def pca_(base_train, pos_class = 0, n_comp = 2, whiten=False, corr=False):\n",
        "\n",
        "  global autovalores\n",
        "  global M\n",
        "\n",
        "  #Remove coluna com dados de classificação\n",
        "  base_train_noclass = base_train.drop(pos_class, axis=1)\n",
        "  base_train_noclass.columns = range(base_train_noclass.shape[1])\n",
        "\n",
        "  #Cálculo das médias para cada componente\n",
        "  medias_base_train_noclass = np.mean(base_train_noclass, axis=0)\n",
        "  \n",
        "  dv = 1\n",
        "  #Usar matriz de coeficientes de correlação\n",
        "  if corr == True:\n",
        "    dv = np.std(base_train_noclass, axis=0)\n",
        "\n",
        "  #Faz a normalização dos valores\n",
        "  base_train_noclass_norm = ((base_train_noclass - medias_base_train_noclass) / dv)\n",
        "  \n",
        "  #Calcula a matriz de covariância dos componentes normalizados\n",
        "  C = base_train_noclass_norm.T.dot(base_train_noclass_norm) \\\n",
        "                                           / (base_train_noclass_norm.shape[0]-1)\n",
        "\n",
        "  #Obtém os autovalores e autovetores\n",
        "  autovalores, autovetores = np.linalg.eig(C)  \n",
        "\n",
        "  #Monta uma matriz contendo duas colunas: a primeira o autovalor e a segunda seu respectivo autovetor\n",
        "  matriz_auto = [\n",
        "                (\n",
        "                    autovalores[i],\n",
        "                    autovetores[:,i]\n",
        "                ) for i in range(len(autovalores))\n",
        "  ]\n",
        "\n",
        "  #Ordena matriz de forma decrescente\n",
        "  df_auto = pd.DataFrame(matriz_auto)\n",
        "  df_auto.sort_values(by=0, ascending=False, inplace=True)\n",
        "  #df_auto.head()\n",
        "  matriz_auto = df_auto.to_numpy()\n",
        "\n",
        "  autovetores_ord = [p[1] for p in matriz_auto]\n",
        "\n",
        "  #Seleciona autovetores\n",
        "  M = autovetores_ord[0:n_comp]\n",
        "  \n",
        "  #Reapresenta as amostras nos novos eixos\n",
        "  novo_base_train_noclass = np.dot(base_train_noclass_norm, np.array(M).T)\n",
        "  \n",
        "  #Branqueamento dos dados\n",
        "  if whiten == True:\n",
        "    matriz_white = np.diag(autovalores[:n_comp]**(-1/2)).T\n",
        "    novo_base_train_noclass = np.dot(novo_base_train_noclass, matriz_white)\n",
        "\n",
        "  #Devolve classe para as amostras\n",
        "  novo_base_train = pd.concat([base_train[pos_class], \\\n",
        "                               pd.DataFrame(novo_base_train_noclass)], \\\n",
        "                               axis=1, \\\n",
        "                               ignore_index=True)\n",
        "  \n",
        "  return novo_base_train"
      ],
      "execution_count": null,
      "outputs": []
    },
    {
      "cell_type": "code",
      "metadata": {
        "colab": {
          "base_uri": "https://localhost:8080/",
          "height": 391
        },
        "id": "YDENFNDrErs5",
        "outputId": "a1ea48c8-f368-438b-b654-bf12523df153"
      },
      "source": [
        "#Monta novo dataframe com amostras em novos eixos para o gráfico\n",
        "#usando matriz de covariância\n",
        "novo_wdbc_train = pca_(wdbc_train, pos_class=0)\n",
        "#print(novo_wdbc_train)\n",
        "sns.pairplot(novo_wdbc_train, hue=0)"
      ],
      "execution_count": null,
      "outputs": [
        {
          "output_type": "execute_result",
          "data": {
            "text/plain": [
              "<seaborn.axisgrid.PairGrid at 0x7f69cc57bf10>"
            ]
          },
          "metadata": {
            "tags": []
          },
          "execution_count": 181
        },
        {
          "output_type": "display_data",
          "data": {
            "image/png": "[encoded data removed]",
            "text/plain": [
              "<Figure size 404.625x360 with 6 Axes>"
            ]
          },
          "metadata": {
            "tags": [],
            "needs_background": "light"
          }
        }
      ]
    },
    {
      "cell_type": "code",
      "metadata": {
        "colab": {
          "base_uri": "https://localhost:8080/",
          "height": 391
        },
        "id": "KILz04G1E7vf",
        "outputId": "57b9a2e4-4257-4da3-e6e2-caf93e3585e3"
      },
      "source": [
        "#Monta novo dataframe com amostras em novos eixos para o gráfico\n",
        "#usando dados branqueados\n",
        "novo_wdbc_train = pca_(wdbc_train, pos_class=0, whiten=True)\n",
        "sns.pairplot(novo_wdbc_train, hue=0)"
      ],
      "execution_count": null,
      "outputs": [
        {
          "output_type": "execute_result",
          "data": {
            "text/plain": [
              "<seaborn.axisgrid.PairGrid at 0x7f69cc197bd0>"
            ]
          },
          "metadata": {
            "tags": []
          },
          "execution_count": 182
        },
        {
          "output_type": "display_data",
          "data": {
            "image/png": "[encoded data removed]",
            "text/plain": [
              "<Figure size 404.625x360 with 6 Axes>"
            ]
          },
          "metadata": {
            "tags": [],
            "needs_background": "light"
          }
        }
      ]
    },
    {
      "cell_type": "markdown",
      "metadata": {
        "id": "Dd1Qyv2l3YAe"
      },
      "source": [
        "Ao comparar os gráficos sem e com branqueamento, percebe-se que os eixos foram reajustados e reduzidos em sua amplitude sem perder o formato da distribuição. Com o branqueamento obtém-se uma padronização na escala de ambos os eixos, o que permite uma melhor análise dos dados."
      ]
    },
    {
      "cell_type": "code",
      "metadata": {
        "id": "5iwYT3-xiNsW"
      },
      "source": [
        "##Código para teste\n",
        "#from sklearn.decomposition import PCA\n",
        "\n",
        "#X = wdbc_train.drop(0, axis=1)\n",
        "#X.columns = range(X.shape[1])\n",
        "#Y = wdbc_train[0]\n",
        "\n",
        "#pca = PCA(n_components=2, whiten=True)\n",
        "#pca.fit(X)\n",
        "#plt.plot(np.cumsum(pca.explained_variance_ratio_))\n",
        "#print(pca.explained_variance_)\n",
        "#X = pca.transform(X)\n",
        "#new_df = pd.DataFrame(X, columns=[\"pc1\", \"pc2\"])\n",
        "#new_df[\"target\"] = Y\n",
        "#sns.pairplot(new_df, vars=[\"pc1\", \"pc2\"], hue=\"target\")"
      ],
      "execution_count": null,
      "outputs": []
    },
    {
      "cell_type": "markdown",
      "metadata": {
        "id": "o0KZBwNIPVkp"
      },
      "source": [
        "**c) Aplique o PCA sobre os dados de treino e selecione o número de componentes até eles corresponderem a 90% da informação de variância dos dados (conforme mostrado nos slides). Realize este procedimento 2 vezes (uma com a matriz de covariância e outra com a matriz de coeficientes de correlação). Quantos componentes foram selecionados? Calcule a nova acurácia do NN usando as\n",
        "componentes selecionadas. O resultado alterou de forma significativa em relação ao obtido em a)? Qual foi a vantagem observada usando PCA? O que você observou\n",
        "comparando os dois métodos?**"
      ]
    },
    {
      "cell_type": "code",
      "metadata": {
        "colab": {
          "base_uri": "https://localhost:8080/"
        },
        "id": "tXdVaOzC8YLW",
        "outputId": "561bd933-6387-4cbf-dabe-4d3afb776ed5"
      },
      "source": [
        "#Usando a matriz de covariância para obter valores acumulados dos autovalores\n",
        "novo_wdbc_train = pca_(wdbc_train, pos_class=0, whiten=True, n_comp=30)\n",
        "perc_info = autovalores[0] / autovalores.sum()\n",
        "i = 1\n",
        "while perc_info < 0.9:\n",
        "  perc_info = (autovalores[0:i].sum()) / autovalores.sum()\n",
        "  i += 1\n",
        "print(\"Componentes: {} \\nInfo: {:.2f}%\".format(i, perc_info*100))"
      ],
      "execution_count": null,
      "outputs": [
        {
          "output_type": "stream",
          "text": [
            "Componentes: 1 \n",
            "Info: 97.60%\n"
          ],
          "name": "stdout"
        }
      ]
    },
    {
      "cell_type": "code",
      "metadata": {
        "colab": {
          "base_uri": "https://localhost:8080/"
        },
        "id": "y36WM0l6sBxM",
        "outputId": "eb951da7-cb78-4e8b-b2ed-95b1315ac9de"
      },
      "source": [
        "#Usando a matriz de coeficientes de correlação para obter \n",
        "#valores acumulados dos autovalores\n",
        "novo_wdbc_train = pca_(wdbc_train, pos_class=0, whiten=True, n_comp=30, corr=True)\n",
        "perc_info = autovalores[0] / autovalores.sum()\n",
        "i = 1\n",
        "while perc_info < 0.9:\n",
        "  perc_info = (autovalores[0:i].sum()) / autovalores.sum()\n",
        "  i += 1\n",
        "print(\"Componentes: {} \\nInfo: {:.2f}%\".format(i, perc_info*100))"
      ],
      "execution_count": null,
      "outputs": [
        {
          "output_type": "stream",
          "text": [
            "Componentes: 8 \n",
            "Info: 90.70%\n"
          ],
          "name": "stdout"
        }
      ]
    },
    {
      "cell_type": "markdown",
      "metadata": {
        "id": "ABM-jjdP7ZtI"
      },
      "source": [
        "Quando utilizada a matriz de covariância, percebe-se que apenas uma das componentes já possui quase a totalidade das informações (**97,6%**), mesmo com dados branqueados. Já quando se calcula o PCA pela matriz de coeficientes de correlação, há um maior espalhamento da informação, sendo necessárias **8 componentes** para corresponder a um valor acima de 90% da informação (**90,7%**)."
      ]
    },
    {
      "cell_type": "code",
      "metadata": {
        "colab": {
          "base_uri": "https://localhost:8080/"
        },
        "id": "yTIXatVV6TsD",
        "outputId": "04e02533-0365-4d82-b86f-ba07e04962fb"
      },
      "source": [
        "#Recalculando a base de treinamento para 90% da informação\n",
        "novo_wdbc_train = pca_(wdbc_train, pos_class=0, whiten=True, n_comp=i, corr=True)\n",
        "\n",
        "#Transformando a base de teste no novo plano\n",
        "wdbc_train_noclass = wdbc_train.drop(0, axis=1)\n",
        "wdbc_train_noclass.columns = range(wdbc_train_noclass.shape[1])\n",
        "\n",
        "wdbc_test_noclass = wdbc_test.drop(0, axis=1)\n",
        "wdbc_test_noclass.columns = range(wdbc_test_noclass.shape[1])\n",
        "\n",
        "wdbc_test_noclass_norm = ((wdbc_test_noclass - wdbc_train_noclass.mean()) \\\n",
        "                            / np.std(wdbc_train_noclass, axis=0))\n",
        "novo_wdbc_test_noclass_norm = np.dot(wdbc_test_noclass_norm, np.array(M).T)\n",
        "\n",
        "#Devolve classe para as amostras\n",
        "novo_wdbc_test = pd.concat([wdbc_test.reset_index()[0], \\\n",
        "                            pd.DataFrame(novo_wdbc_test_noclass_norm)], \\\n",
        "                           axis=1, \\\n",
        "                           ignore_index=True)\n",
        "\n",
        "ac_viz = vizinho(novo_wdbc_train, novo_wdbc_test)\n",
        "print(\"Acurácia com {} componentes: {:.2f}%\".format(i, ac_viz*100))"
      ],
      "execution_count": null,
      "outputs": [
        {
          "output_type": "stream",
          "text": [
            "Acurácia com 8 componentes: 95.17%\n"
          ],
          "name": "stdout"
        }
      ]
    },
    {
      "cell_type": "code",
      "metadata": {
        "colab": {
          "base_uri": "https://localhost:8080/"
        },
        "id": "TUDOhtcZs5wL",
        "outputId": "c4ed6afe-4d81-47ed-cc86-0d45c9b8a0cd"
      },
      "source": [
        "#Pelo critério de Kaiser\n",
        "autovalores_kaiser = autovalores[autovalores > 1]\n",
        "print(autovalores_kaiser)\n",
        "print(\"Nr. componentes por Kaiser: {}\".format(np.size(autovalores_kaiser)))"
      ],
      "execution_count": null,
      "outputs": [
        {
          "output_type": "stream",
          "text": [
            "[13.06338364  5.77713335  3.25519859  1.81411581  1.4904386   1.22127142]\n",
            "Nr. componentes por Kaiser: 6\n"
          ],
          "name": "stdout"
        }
      ]
    },
    {
      "cell_type": "markdown",
      "metadata": {
        "id": "Mv9uqI-PRaVL"
      },
      "source": [
        "A acurácia obtida com os 8 primeiros elementos, correspondente a mais de 90% da informação foi de **95,17%**. Porém, obervou-se que a melhor acurácia foi com **6 componentes** (96,28%), que corresponde ao valor encontrado pelo **critério de Kaiser**."
      ]
    },
    {
      "cell_type": "markdown",
      "metadata": {
        "id": "ew0-oFzhVlYV"
      },
      "source": [
        "**d) Aplique o Discriminante Linear de Fisher sobre os dados de treino e obtenha a acurácia\n",
        "do NN sobre o conjunto de teste. Quais as vantagens desta abordagem sobre o PCA?**"
      ]
    },
    {
      "cell_type": "code",
      "metadata": {
        "colab": {
          "base_uri": "https://localhost:8080/"
        },
        "id": "CmirPB1ilS0n",
        "outputId": "c366e4c6-67d6-458b-abb7-b70e4b9999b0"
      },
      "source": [
        "#Cálculo das médias da classe  M\n",
        "wdbc_m = wdbc_train[wdbc_train[0] == 'M']\n",
        "wdbc_m_noclass = wdbc_m.drop(0, axis=1)\n",
        "wdbc_m_noclass.columns = range(wdbc_m_noclass.shape[1])\n",
        "wdbc_m_noclass.reset_index(drop=True, inplace=True)\n",
        "medias_m = wdbc_m_noclass.mean()\n",
        "\n",
        "#Cálculo das médias da classe  B\n",
        "wdbc_b = wdbc_train[wdbc_train[0] == 'B']\n",
        "wdbc_b_noclass = wdbc_b.drop(0, axis=1)\n",
        "wdbc_b_noclass.columns = range(wdbc_b_noclass.shape[1])\n",
        "wdbc_b_noclass.reset_index(drop=True, inplace=True)\n",
        "medias_b = wdbc_b_noclass.mean()\n",
        "\n",
        "#Cálculo do vetor de Fisher\n",
        "s1 = (wdbc_m_noclass.shape[0] - 1) * wdbc_m_noclass.cov()\n",
        "s2 = (wdbc_b_noclass.shape[0] - 1) * wdbc_b_noclass.cov()\n",
        "Sw = s1.add(s2)\n",
        "Sw_inv = np.linalg.inv(Sw)\n",
        "v = np.dot(Sw_inv, (medias_m - medias_b))\n",
        "\n",
        "#Projeção das amostras no vetor de Fisher\n",
        "vt = pd.DataFrame(v).T\n",
        "\n",
        "m_fisher = pd.DataFrame(columns=range(wdbc_m_noclass.shape[1]), \\\n",
        "                        index=range(wdbc_m_noclass.shape[0]))\n",
        "for i,row in wdbc_m_noclass.iterrows():\n",
        "  m_fisher.iloc[i] = np.array(vt * row.T)\n",
        "\n",
        "wdbc_fisher_m = pd.concat([pd.DataFrame('M' for x in range(m_fisher.shape[0])), \\\n",
        "                        m_fisher], \\\n",
        "                        axis=1, \\\n",
        "                        ignore_index=True)\n",
        "\n",
        "b_fisher = pd.DataFrame(columns=range(wdbc_b_noclass.shape[1]), \\\n",
        "                        index=range(wdbc_b_noclass.shape[0]))\n",
        "for i,row in wdbc_b_noclass.iterrows():\n",
        "  b_fisher.iloc[i] = np.array(vt * row.T)\n",
        "\n",
        "wdbc_fisher_b = pd.concat([pd.DataFrame('B' for x in range(b_fisher.shape[0])), \\\n",
        "                        b_fisher], \\\n",
        "                        axis=1, \\\n",
        "                        ignore_index=True)\n",
        "\n",
        "#Reagrupamento dos dados de treinamento\n",
        "wdbc_fisher_train = pd.concat([wdbc_fisher_b, wdbc_fisher_m], axis=0, ignore_index=True)\n",
        "\n",
        "#Projeção das amostras de teste no discriminante de Fisher\n",
        "wdbc_m = wdbc_test[wdbc_test[0] == 'M']\n",
        "wdbc_m_noclass = wdbc_m.drop(0, axis=1)\n",
        "wdbc_m_noclass.columns = range(wdbc_m_noclass.shape[1])\n",
        "wdbc_m_noclass.reset_index(drop=True, inplace=True)\n",
        "\n",
        "wdbc_b = wdbc_test[wdbc_test[0] == 'B']\n",
        "wdbc_b_noclass = wdbc_b.drop(0, axis=1)\n",
        "wdbc_b_noclass.columns = range(wdbc_b_noclass.shape[1])\n",
        "wdbc_b_noclass.reset_index(drop=True, inplace=True)\n",
        "\n",
        "m_fisher = pd.DataFrame(columns=range(wdbc_m_noclass.shape[1]), \\\n",
        "                        index=range(wdbc_m_noclass.shape[0]))\n",
        "for i,row in wdbc_m_noclass.iterrows():\n",
        "  m_fisher.iloc[i] = np.array(vt * row.T)\n",
        "\n",
        "wdbc_fisher_m = pd.concat([pd.DataFrame('M' for x in range(m_fisher.shape[0])), \\\n",
        "                        m_fisher], \\\n",
        "                        axis=1, \\\n",
        "                        ignore_index=True)\n",
        "\n",
        "b_fisher = pd.DataFrame(columns=range(wdbc_b_noclass.shape[1]), \\\n",
        "                        index=range(wdbc_b_noclass.shape[0]))\n",
        "\n",
        "for i,row in wdbc_b_noclass.iterrows():\n",
        "  b_fisher.iloc[i] = np.array(vt * row.T)\n",
        "\n",
        "wdbc_fisher_b = pd.concat([pd.DataFrame('B' for x in range(b_fisher.shape[0])), \\\n",
        "                        b_fisher], \\\n",
        "                        axis=1, \\\n",
        "                        ignore_index=True)\n",
        "\n",
        "#Reagrupamento dos dados de treinamento\n",
        "wdbc_fisher_test = pd.concat([wdbc_fisher_b, wdbc_fisher_m], axis=0, ignore_index=True)\n",
        "\n",
        "ac_viz = vizinho(wdbc_fisher_train, wdbc_fisher_test)\n",
        "print(\"Acurácia NN discriminante Fisher: {:.2f}%\".format(ac_viz*100))"
      ],
      "execution_count": null,
      "outputs": [
        {
          "output_type": "stream",
          "text": [
            "Acurácia NN discriminante Fisher: 93.31%\n"
          ],
          "name": "stdout"
        }
      ]
    },
    {
      "cell_type": "markdown",
      "metadata": {
        "id": "nEtbdfNXdndp"
      },
      "source": [
        "A acurácia na classificação pelo método do vizinho mais próximo usando as amostras projetadas no Discriminante de Fisher apresentou um resultado de **93,31%**, ligeiramente inferior ao valor apresentado pelo método PCA. Este método tende a funcionar melhor quando os dados possuem uma separação linear. O PCA fornece uma boa representação dos dados, mas não necessariamente uma discriminação entre as classes. O PCA tenta representar os dados de acordo com a variância dos dados, fazendo uma compactação. Já o Fisher procura a direção que melhore a separação dos dados."
      ]
    }
  ]
}