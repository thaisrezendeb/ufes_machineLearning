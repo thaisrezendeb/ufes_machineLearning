{
  "nbformat": 4,
  "nbformat_minor": 0,
  "metadata": {
    "colab": {
      "name": "L2_ParteTeorica.ipynb",
      "provenance": [],
      "authorship_tag": "ABX9TyPKodo7w/SDOGFMAidzLCrP",
      "include_colab_link": true
    },
    "kernelspec": {
      "name": "python3",
      "display_name": "Python 3"
    },
    "language_info": {
      "name": "python"
    }
  },
  "cells": [
    {
      "cell_type": "markdown",
      "metadata": {
        "id": "view-in-github",
        "colab_type": "text"
      },
      "source": [
        "<a href=\"https://colab.research.google.com/github/thaisrezendeb/ufes_machineLearning/blob/main/L2_ParteTeorica.ipynb\" target=\"_parent\"><img src=\"https://colab.research.google.com/assets/colab-badge.svg\" alt=\"Open In Colab\"/></a>"
      ]
    },
    {
      "cell_type": "markdown",
      "metadata": {
        "id": "5CVj7abLksF6"
      },
      "source": [
        "#Questões Teóricas\n",
        "\n",
        "**1) Dois observadores em lugares distintos obtêm medidas diferentes M1 e M2 do número de estrelas N em uma pequena região do céu, usando telescópios. Cada telescópio pode estar fora de foco (eventos F1 e F2), e nesse caso o astrônomo deixará de contar corretamente o número de estrelas.**\n",
        "\n",
        "**a) Quais das redes abaixo são representações corretas da informação acima?**\n",
        "\n",
        "<figure>\n",
        "<center>\n",
        "<img src='https://drive.google.com/uc?id=1mLb0yfNIkcG3XVCzsYdo759RaS1BCa_a' />\n",
        "</figure>"
      ]
    },
    {
      "cell_type": "markdown",
      "metadata": {
        "id": "wsBVVuNMmR4A"
      },
      "source": [
        "R: A rede que melhor representa a situação é a rede (ii), uma vez que o evento número de estrelas na região é independente dos eventos de foco, dado que M1 e M2 são desconhecidos. Já os eventos de medidas são dependentes do número de estrelas e do foco de seus respectivos telescópios."
      ]
    },
    {
      "cell_type": "markdown",
      "metadata": {
        "id": "2jD74rVTnpKE"
      },
      "source": [
        "**b) Qual é a melhor rede? Explique.**"
      ]
    },
    {
      "cell_type": "markdown",
      "metadata": {
        "id": "yXqvUQNHntxl"
      },
      "source": [
        "R: A melhor rede é aquela que representa melhor o problema. Portanto, a rede (ii)."
      ]
    },
    {
      "cell_type": "markdown",
      "metadata": {
        "id": "-s6YuQzVn69-"
      },
      "source": [
        "**2) Para a rede bayesiana da figura abaixo, verifique as seguintes afirmações, indicando se é falso ou verdadeiro e fornecendo a devida explicação.**\n",
        "\n",
        "<figure>\n",
        "<center>\n",
        "<img src='https://drive.google.com/uc?id=1VCP0MYRyZEjS53KtPOJdD2OB2ZrgnQDx' />\n",
        "</figure>"
      ]
    },
    {
      "cell_type": "markdown",
      "metadata": {
        "id": "mIWjusxqokzV"
      },
      "source": [
        "**a) A e B são independentes de C**"
      ]
    },
    {
      "cell_type": "markdown",
      "metadata": {
        "id": "sUdDYlzaomeo"
      },
      "source": [
        "R: A questão é **verdadeira** se F não for conhecido."
      ]
    },
    {
      "cell_type": "markdown",
      "metadata": {
        "id": "um9myGElo5XK"
      },
      "source": [
        "**b) B é independente de C tal que foi observado F**"
      ]
    },
    {
      "cell_type": "markdown",
      "metadata": {
        "id": "jZ4RGP03o9Kk"
      },
      "source": [
        "R: A questão é **falsa**, pois o conhecimento de F cria relação de dependência entre B e C."
      ]
    },
    {
      "cell_type": "markdown",
      "metadata": {
        "id": "QDLQGFYnpLed"
      },
      "source": [
        "**c) G é independe de E tal que foi observado D**"
      ]
    },
    {
      "cell_type": "markdown",
      "metadata": {
        "id": "JrIaBxzOpTgr"
      },
      "source": [
        "R: **Verdadeiro**. O conhecimento de D torna G independente dos demais nós filhos de D."
      ]
    },
    {
      "cell_type": "markdown",
      "metadata": {
        "id": "GkdxEaPOphtQ"
      },
      "source": [
        "**d) G é independe de E tal que foi observado I**"
      ]
    },
    {
      "cell_type": "markdown",
      "metadata": {
        "id": "2KHJbjQQpnmP"
      },
      "source": [
        "R: **Falso**. A obsevação de I implica em dependência entre seus pais."
      ]
    },
    {
      "cell_type": "markdown",
      "metadata": {
        "id": "oGAUg1Rhp6eC"
      },
      "source": [
        "**e) D é independe de H tal que foi observado E**"
      ]
    },
    {
      "cell_type": "markdown",
      "metadata": {
        "id": "cspMoFIeqFsC"
      },
      "source": [
        "R: **Verdadeiro**. A observação de E torna D e H independentes."
      ]
    },
    {
      "cell_type": "markdown",
      "metadata": {
        "id": "o9hUrzqJqJED"
      },
      "source": [
        "**f) H é independe de D tal que foram observados E e I**"
      ]
    },
    {
      "cell_type": "markdown",
      "metadata": {
        "id": "_DtVyP6IqUSd"
      },
      "source": [
        "R: **Falso**. O conhecimento de I implica em relação de dependência entre H e D."
      ]
    },
    {
      "cell_type": "markdown",
      "metadata": {
        "id": "MfTksgA0qZA9"
      },
      "source": [
        "**g) I é independente de A tal que foi observado F**"
      ]
    },
    {
      "cell_type": "markdown",
      "metadata": {
        "id": "Tzc5N-UYqaxb"
      },
      "source": [
        "R: **Falso**. F cria relação de dependência entre B e C, acarretando em dependência de A e I."
      ]
    },
    {
      "cell_type": "markdown",
      "metadata": {
        "id": "KbfauNC_qnjt"
      },
      "source": [
        "**h) F é independe de D**"
      ]
    },
    {
      "cell_type": "markdown",
      "metadata": {
        "id": "3NEc0TAkqpi2"
      },
      "source": [
        "R: **Verdadeiro**. O desconhecimento de G implica em independência entre C e D e, portanto, de F e D."
      ]
    },
    {
      "cell_type": "markdown",
      "metadata": {
        "id": "jAEZEM6Eqs6O"
      },
      "source": [
        "**3) Para a árvore de decisão abaixo construída para decidir se alguém jogará tênis ou não baseado nas informações de tempo, temperatura, umidade e vento, obtenha:**\n",
        "\n",
        "<figure>\n",
        "<center>\n",
        "<img src='https://drive.google.com/uc?id=1Y6pqgBNVKqXfGLCr6VBTDC_LQ5NQ3nmT' />\n",
        "</figure>"
      ]
    },
    {
      "cell_type": "markdown",
      "metadata": {
        "id": "kop1h4AfrI3T"
      },
      "source": [
        "**a) A pessoa jogará tênis se for conhecido somente que o vento está forte? (trate o problema como se fosse a classificação de uma amostra com valores desconhecidos). Explique a solução.**"
      ]
    },
    {
      "cell_type": "markdown",
      "metadata": {
        "id": "wcY9OPVSrRGt"
      },
      "source": [
        "Dado que apenas a informação do vento é conhecida e as demais não, e como o vento está forte, pode-se concluir que a pessoa **não jogará** tênis. O conhecimento de vento elimina a necessidade de conhecer as demais variáveis. Como em ambos os nós que aparece *vento* o ramo forte implica em não jogar, a decisão será sempre **não** independente das outras variáveis."
      ]
    },
    {
      "cell_type": "markdown",
      "metadata": {
        "id": "nEjmaUJ9rOQy"
      },
      "source": [
        "**b) Obtenha as regras de classificação (simplificando, se possível) a partir da árvore de decisão.**"
      ]
    },
    {
      "cell_type": "markdown",
      "metadata": {
        "id": "ivrPYag3rRkT"
      },
      "source": [
        "Tempo = ensolarado, Temperatura = Elevada -> Joga = Não\n",
        "<br>Tempo = ensolarado, Temperatura = Baixa -> Joga = Sim\n",
        "<br>\n",
        "<br>Tempo = Nublado, Umidade = Baixa -> Joga = Sim\n",
        "<br>Tempo = Nublado, Umidade = Alta, Vento = Forte -> Joga = Não\n",
        "<br>Tempo = Nublado, Umidade = Alta, Vento = Fraco -> Joga = Sim\n",
        "<br>\n",
        "<br>Tempo = Chuvoso, Vento = Forte -> Joga = Não\n",
        "<br>Tempo = Chuvoso, Vento = Fraco -> Joga = Sim "
      ]
    }
  ]
}