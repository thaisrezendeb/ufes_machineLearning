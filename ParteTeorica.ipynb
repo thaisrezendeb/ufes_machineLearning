{
  "nbformat": 4,
  "nbformat_minor": 0,
  "metadata": {
    "colab": {
      "name": "ParteTeorica.ipynb",
      "provenance": [],
      "authorship_tag": "ABX9TyOLlj1Mk7PTjLA1uCUe6L/i",
      "include_colab_link": true
    },
    "kernelspec": {
      "name": "python3",
      "display_name": "Python 3"
    },
    "language_info": {
      "name": "python"
    }
  },
  "cells": [
    {
      "cell_type": "markdown",
      "metadata": {
        "id": "view-in-github",
        "colab_type": "text"
      },
      "source": [
        "<a href=\"https://colab.research.google.com/github/thaisrezendeb/ufes_machineLearning/blob/main/ParteTeorica.ipynb\" target=\"_parent\"><img src=\"https://colab.research.google.com/assets/colab-badge.svg\" alt=\"Open In Colab\"/></a>"
      ]
    },
    {
      "cell_type": "markdown",
      "metadata": {
        "id": "8RmqAELRmZYG"
      },
      "source": [
        "**1)**\n",
        "\n",
        "- *underfitting*: característica do modelo que não consegue se ajustar bem às amostras, resultando em muitos erros na classificação. Normalmente este resultado é obtido quando tenta-se utilizar um modelo simples para explicar uma variação complexa das amostras. Um exemplo é o uso de um modelo de regressão de primeira ordem para um conjunto de amostras que exigem ordens maiores. \n",
        "\n",
        "- *overfitting*: quando o modelo se ajusta demais às amostras, inclusive aos outliers. Nesta situação, pode-se considerar que o modelo \"decorou\" as amostras. O desempenho também é ruim, tanto por não termos certeza no acerto da classificação de novas amostras quanto pela alta complexidade atingida."
      ]
    },
    {
      "cell_type": "markdown",
      "metadata": {
        "id": "XHjVWIUqmcWk"
      },
      "source": [
        "**2)**\n",
        "\n",
        "a) O uso de muitas variáveis de entrada não garante uma melhor qualidade do modelo, uma vez que podem haver variáveis sem relação direta (descorrelacionadas). Assim, o uso de amostras fortemente descorrelacionadas podem resultar em um modelo que não se ajusta bem aos dados, portanto, com resultados piores.\n",
        "\n",
        "b) O uso de pré-processamento da base de dados é de grande utilidade, sendo um processo de baixa complexidade e que pode ser de suma importância para se obter bons resultados na definição do modelo. Uma análise prévia com conhecimentos técnicos pode auxiliar na remoção de outliers e de dados irrelevantes, permitindo a redução do consumo de recurso computacional e um melhor resultado do procedimento executado."
      ]
    },
    {
      "cell_type": "markdown",
      "metadata": {
        "id": "lAHUWxZ1ZSdy"
      },
      "source": [
        "**3) Dado que:**\n",
        "\n",
        "$$ var(X) = E[(X - E(X)^2] = E[X^2 - 2XE(X) + E(X)^2] = E(X^2) - E(X)^2 \\tag{I} $$\n",
        "\n",
        "$$ cov(X,T) = E[(X - E(X)(T - E(T)] = E(XT) - E(X)E(T) \\tag{II} $$\n",
        "\n",
        "$$ E(X) = \\overline{X} = \\frac{1}{N}\\sum_{i=1}^{N}{x_i} \\tag{III} $$\n",
        "\n",
        "$$ f(x) = \\omega_0 + \\omega_1 x \\tag{IV} $$"
      ]
    },
    {
      "cell_type": "markdown",
      "metadata": {
        "id": "UMXcEH1on6Qs"
      },
      "source": [
        "**a)** O modelo de regressão linear simples é dado por:\n",
        "\n",
        "$$ t_i = \\omega_0 + \\omega_1 x_1 + e_i $$\n",
        "\n",
        "onde $e_i$ é o erro aleatório da estimação cuja média é zero.\n",
        "\n",
        "Pelo método dos mínimos quadrados pode-se estimar os valores de $\\omega_0$ e $\\omega_1$:\n",
        "\n",
        "$$ e_i = t_i - (\\omega_0 + \\omega_1 x_i) $$\n",
        "\n",
        "O método dos mínimos quadrados requer a soma dos *n* desvios quadrados:\n",
        "\n",
        "$$ Q = \\sum_{i=1}^{N}{e_i^2} = \\sum_{i=1}^{N}{[t_i - (\\omega_0 + \\omega_1 x_i)]^2} $$\n",
        "\n",
        "onde Q é a soma dos erros quadráticos. Para encontrar os estimadores que reduzem ao máximo o valor de Q deriva-se Q em relação a $\\omega_0$ e $\\omega_1$ e iguala-se a zero:\n",
        "\n",
        "$$ \\frac{\\partial{Q}}{\\partial{\\omega_0}} = -2\\sum_{i=1}^{N}{[t_i - \\omega_0 - \\omega_1 x_i]} = 0 $$\n",
        "\n",
        "\n",
        "$$ \\frac{\\partial{Q}}{\\partial{\\omega_1}} = -2\\sum_{i=1}^{N}{[t_i - \\omega_0 - \\omega_1 x_i]x_i} = 0 $$\n",
        "\n",
        "A solução é:\n",
        "\n",
        "$$ \\widehat{\\omega}_0 = \\overline{T} - \\omega_1 \\overline{X} $$\n",
        "\n",
        "$$ \\widehat{\\omega}_1 = \\frac{\\sum_{i=1}^{N}{(x_i - \\overline{X})(t_i - \\overline{T})}}{\\sum_{i=1}^{N}{(x_i - \\overline{X})^2}} $$\n",
        "\n",
        "Portanto, considerando as expressões (I) e (II):\n",
        "\n",
        "$$ \\omega_1 = \\frac{E[(X - \\overline{X})(T - \\overline{T})]}{E[(X - \\overline{X})^2]} = \\frac{E(XT) - E(X)E(T)}{E(X^2) - E(X)^2} $$\n",
        "\n",
        "$$ \\omega_1 = \\frac{cov(X,T)}{var(X)} $$"
      ]
    },
    {
      "cell_type": "markdown",
      "metadata": {
        "id": "xNw5AX3cidOD"
      },
      "source": [
        "**b)** Dado os valores estimados $\\widehat{\\omega}_0$ e $\\widehat{\\omega}_1$ obtidos em **a)**:\n",
        "\n",
        "$$ f(x) =  \\omega_0 + \\omega_1 x $$\n",
        "$$ f(x) = \\overline{T} - \\omega_1 \\overline{X} + \\omega_1 X $$\n",
        "$$ f(x) = \\overline{T} + \\omega_1 (X - \\overline{X}) $$\n",
        "\n",
        "Alterando a notação:\n",
        "\n",
        "$$ f(x) = E(T) + \\omega_1 [X - E(X)] $$\n",
        "\n",
        "Finalmente, faz-se a substituição de $\\omega_1$:\n",
        "\n",
        "$$ f(x) = E(T) + \\frac{cov(X,T)}{var(X)} [X - E(X)] $$"
      ]
    },
    {
      "cell_type": "markdown",
      "metadata": {
        "id": "9osezb4SQsMO"
      },
      "source": [
        "**c)**\n",
        "$$ R^2 = p^2 $$\n",
        "\n",
        "$$ 1 - \\frac{E(T^2)-2E[Tf(X)]+E[f(X)^2]}{var(T)} = \\left(\\frac{cov(X,T)}{\\sqrt{var(X)var(T)}}\\right)^2 $$\n",
        "\n",
        "$$ var(T) - E(T^2) + 2E[Tf(X)] - E[f(X)^2] = \\frac{cov^2(X,T)}{var(X)} $$\n",
        "\n",
        "Substituindo f(X) por **(IV)**:\n",
        "\n",
        "$$ var(T) - E(T^2) +2E[T (\\omega_0 + \\omega_1 x)] - E[(\\omega_0 + \\omega_1 x)^2] = \\frac{cov^2(X,T)}{var(X)} $$\n",
        "\n",
        "E, pelas deduções em **a)**:\n",
        "\n",
        "$$ var(T) - E(T^2) \n",
        "+ 2E\\left(T\\left( E(T) + \\frac{cov(X,T)(X-E(X))}{var(X)} \\right) \\right) \n",
        "- E\\left(\\left( E(T) + \\frac{cov(X,T)(X-E(X))}{var(X)} \\right)^2 \\right)\n",
        "= \\frac{cov^2(X,T)}{var(X)}  $$\n",
        "<br><br>\n",
        "$$ var(T) - E(T^2) \n",
        "+ 2E\\left( TE(T) + \\frac{Tcov(X,T)(X-E(X))}{var(X)} \\right)\n",
        "- E\\left( E(T)^2 +2E(T)\\frac{cov(X,T)(X-E(X))}{var(X)} + \\frac{cov^2(X,T)(X-E(X))^2}{var^2(X)} \\right)\n",
        "= \\frac{cov^2(X,T)}{var(X)}  $$\n",
        "<br><br>\n",
        "$$ var(T) - E(T^2)\n",
        "+ 2E\\left( TE(T) + \\frac{XTcov(X,T)}{var(X)} - \\frac{TE(X)cov(X,T)}{var(X)} \\right) \n",
        "-E\\left( E(T)^2 + \\frac{2XE(T)cov(X,T)}{var(X)} - \\frac{2E(X)E(T)cov(X,T)}{var(X)} + \\frac{cov^2(X,T)(X^2 - 2XE(X) + E(X)^2)}{var^2(X)} \\right) = \\frac{cov^2(X,T)}{var(X)}$$\n",
        "<br><br>\n",
        "$$ var(T) - E(T^2)\n",
        "+ 2E[TE(T)]\n",
        "+ 2E\\left( \\frac{XTcov(X,T)}{var(X)} \\right) \n",
        "- 2E\\left( \\frac{TE(X)cov(X,T)}{var(X)} \\right) \n",
        "- E[E(T)^2] \n",
        "- 2E\\left( \\frac{XE(T)cov(X,T)}{var(X)} \\right)\n",
        "+ 2E\\left( \\frac{E(X)E(T)cov(X,T)}{var(X)} \\right)\n",
        "- E\\left( \\frac{X^2cov^2(X,T)}{var^2(X)} - \\frac{2XE(X)cov^2(X,T)}{var^2(X)} + \\frac{E(X)^2cov^2(X,T)}{var^2(X)} \\right) = \\frac{cov^2(X,T)}{var(X)}  $$\n",
        "<br><br>\n",
        "$$ var(T) - E(T^2)\n",
        "+ 2E[TE(T)]\n",
        "+ 2E\\left( \\frac{XTcov(X,T)}{var(X)} \\right) \n",
        "- 2E\\left( \\frac{TE(X)cov(X,T)}{var(X)} \\right) \n",
        "- E[E(T)^2] \n",
        "- 2E\\left( \\frac{XE(T)cov(X,T)}{var(X)} \\right)\n",
        "+ 2E\\left( \\frac{E(X)E(T)cov(X,T)}{var(X)} \\right)\n",
        "- E\\left( \\frac{X^2cov^2(X,T)}{var^2(X)} \\right)\n",
        "+ E\\left( \\frac{2XE(X)cov^2(X,T)}{var^2(X)} \\right)\n",
        "- E\\left(\\frac{E(X)^2cov^2(X,T)}{var^2(X)} \\right) = \\frac{cov^2(X,T)}{var(X)}  $$\n",
        "\n",
        "Substituindo os valores da expressão **(II)**:\n",
        "\n",
        "$$ var(T) - E(T^2) + 2E(T)^2 - E(T)^2\n",
        "+ 2E\\left( \\frac{XT(E(XT) - E(X)E(T))}{var(X)} \\right) \n",
        "- 2E\\left( \\frac{TE(X)(E(XT) - E(X)E(T))}{var(X)} \\right) \n",
        "- 2E\\left( \\frac{XE(T)(E(XT) - E(X)E(T))}{var(X)} \\right)\n",
        "+ 2E\\left( \\frac{E(X)E(T)(E(XT) - E(X)E(T))}{var(X)} \\right)\n",
        "- E\\left( \\frac{X^2(E(XT) - E(X)E(T))^2}{var^2(X)} \\right)\n",
        "+ E\\left( \\frac{2XE(X)(E(XT) - E(X)E(T))^2}{var^2(X)} \\right)\n",
        "- E\\left(\\frac{E(X)^2(E(XT) - E(X)E(T))^2}{var^2(X)} \\right) = \\frac{cov^2(X,T)}{var(X)}  $$\n",
        "<br><br>\n",
        "$$ var(T) - E(T^2) + E(T)^2\n",
        "+ 2E\\left( \\frac{XTE(XT)}{var(X)} \\right) \n",
        "- 2E\\left( \\frac{XTE(X)E(T)}{var(X)} \\right) \n",
        "- 2E\\left( \\frac{TE(X)E(XT)}{var(X)} \\right) \n",
        "+ 2E\\left( \\frac{TE(X)^2E(T)}{var(X)} \\right) \n",
        "- 2E\\left( \\frac{XE(T)E(XT)}{var(X)} \\right)\n",
        "+ 2E\\left( \\frac{XE(X)E(T)^2}{var(X)} \\right)\n",
        "+ 2E\\left( \\frac{E(X)E(T)E(XT)}{var(X)} \\right)\n",
        "- 2E\\left( \\frac{E(X)^2E(T)^2}{var(X)} \\right)\n",
        "- E\\left( \\frac{X^2[E(XT)^2 - 2E(XT)E(X)E(T) + E(X)^2E(T)^2]}{var^2(X)} \\right)\n",
        "+ E\\left( \\frac{2XE(X)[E(XT)^2 - 2E(XT)E(X)E(T) + E(X)^2E(T)^2]}{var^2(X)} \\right)\n",
        "- E\\left(\\frac{E(X)^2[E(XT)^2 - 2E(XT)E(X)E(T) + E(X)^2E(T)^2]}{var^2(X)} \\right) \n",
        "= \\frac{cov^2(X,T)}{var(X)}  $$\n",
        "<br><br>\n",
        "$$ var(T) - E(T^2) + E(T)^2\n",
        "+ 2E\\left( \\frac{XTE(XT)}{var(X)} \\right) \n",
        "- 2E\\left( \\frac{XTE(X)E(T)}{var(X)} \\right) \n",
        "- 2E\\left( \\frac{TE(XT)E(X)}{var(X)} \\right) \n",
        "+ 2E\\left( \\frac{TE(X)^2E(T)}{var(X)} \\right) \n",
        "- 2E\\left( \\frac{XE(XT)E(T)}{var(X)} \\right)\n",
        "+ 2E\\left( \\frac{XE(X)E(T)^2}{var(X)} \\right)\n",
        "+ 2E\\left( \\frac{E(XT)E(X)E(T)}{var(X)} \\right)\n",
        "- 2E\\left( \\frac{E(X)^2E(T)^2}{var(X)} \\right)\n",
        "- E\\left( \\frac{X^2E(XT)^2}{var^2(X)} \\right)\n",
        "+ 2E\\left( \\frac{X^2E(XT)E(X)E(T)}{var^2(X)} \\right)\n",
        "- E\\left( \\frac{X^2E(X)^2E(T)^2}{var^2(X)} \\right)\n",
        "+ 2E\\left( \\frac{XE(XT)^2E(X)}{var^2(X)} \\right)\n",
        "- 4E\\left( \\frac{XE(XT)E(X)^2E(T)}{var^2(X)} \\right)\n",
        "+ 2E\\left( \\frac{XE(X)^3E(T)^2}{var^2(X)} \\right)\n",
        "- E\\left(\\frac{E(X)^2E(XT)^2}{var^2(X)} \\right) \n",
        "+ 2E\\left(\\frac{E(XT)E(X)^3E(T)}{var^2(X)} \\right) \n",
        "- E\\left(\\frac{E(X)^4E(T)^2]}{var^2(X)} \\right) \n",
        "= \\frac{cov^2(X,T)}{var(X)}  $$\n",
        "<br><br>\n",
        "$$ var(T) - [E(T^2) - E(T)^2]\n",
        "+ \\frac{2E(XT)^2}{var(X)}\n",
        "- \\frac{2E(XT)E(X)E(T)}{var(X)} \n",
        "- \\frac{2E(XT)E(X)E(T)}{var(X)}\n",
        "+ \\frac{2E(X)^2E(T)^2}{var(X)}\n",
        "- \\frac{2E(XT)E(X)E(T)}{var(X)}\n",
        "+ \\frac{2E(X)^2E(T)^2}{var(X)}\n",
        "+ \\frac{2E(XT)E(X)E(T)}{var(X)}\n",
        "- \\frac{2E(X)^2E(T)^2}{var(X)}\n",
        "- \\frac{E(XT)^2E(X^2)}{var^2(X)}\n",
        "+ \\frac{2E(XT)E(X^2)E(X)E(T)}{var^2(X)}\n",
        "- \\frac{E(X^2)E(X)^2E(T)^2}{var^2(X)}\n",
        "+ \\frac{2E(XT)^2E(X)^2}{var^2(X)}\n",
        "- \\frac{4E(XT)E(X)^3E(T)}{var^2(X)}\n",
        "+ \\frac{2E(X)^4E(T)^2}{var^2(X)}\n",
        "- \\frac{E(XT)^2E(X)^2}{var^2(X)}\n",
        "+ \\frac{2E(XT)E(X)^3E(T)}{var^2(X)}  \n",
        "- \\frac{E(X)^4E(T)^2}{var^2(X)}\n",
        "= \\frac{cov^2(X,T)}{var(X)}  $$\n",
        "<br><br>\n",
        "$$ var(T) - var(T)\n",
        "+ \\frac{2E(XT)^2}{var(X)}\n",
        "- \\frac{4E(XT)E(X)E(T)}{var(X)}\n",
        "+ \\frac{2E(X)^2E(T)^2}{var(X)}\n",
        "+ \\frac{2E(XT)E(X^2)E(X)E(T)}{var^2(X)}\n",
        "- \\frac{E(X^2)E(X)^2E(T)^2}{var^2(X)}\n",
        "+ \\frac{E(XT)^2E(X)^2}{var^2(X)} \n",
        "- \\frac{ E(XT)^2E(X^2)}{var^2(X)}\n",
        "- \\frac{2E(XT)E(X)^3E(T)}{var^2(X)}\n",
        "+ \\frac{E(X)^4E(T)^2}{var^2(X)}\n",
        "= \\frac{cov^2(X,T)}{var(X)}  $$\n",
        "<br><br>\n",
        "$$ \\frac{2[E(XT)^2 - 2E(XT)E(X)E(T) + E(X)^2E(T)^2]}{var(X)}\n",
        "+ \\frac{E(X)^2[E(XT)^2 - 2E(XT)E(X)E(T) + E(X)^2E(T)^2]}{var^2(X)} \n",
        "- \\frac{E(X^2)[E(XT)^2 - 2E(XT)E(X)E(T) + E(X)^2E(T)^2]}{var^2(X)}\n",
        "= \\frac{cov^2(X,T)}{var(X)}  $$\n",
        "<br><br>\n",
        "$$ \\frac{2[E(XT) - E(X)E(T)]^2}{var(X)}\n",
        "+ \\frac{E(X)^2[E(XT) - E(X)E(T)]^2}{var^2(X)} \n",
        "- \\frac{E(X^2)[E(XT) - E(X)E(T)]^2}{var^2(X)}\n",
        "= \\frac{cov^2(X,T)}{var(X)}  $$\n",
        "<br><br>\n",
        "$$ \\frac{2cov^2(X,T)}{var(X)}\n",
        "+ \\frac{E(X)^2cov^2(X,T)}{var^2(X)} \n",
        "- \\frac{E(X^2)cov^2(X,T)}{var^2(X)}\n",
        "= \\frac{cov^2(X,T)}{var(X)}  $$\n",
        "<br><br>\n",
        "$$ \\frac{2cov^2(X,T)}{var(X)}\n",
        "- \\frac{[E(X)^2 - E(X)^2]cov^2(X,T)}{var^2(X)} \n",
        "= \\frac{cov^2(X,T)}{var(X)}  $$\n",
        "<br><br>\n",
        "$$ \\frac{2cov^2(X,T)}{var(X)}\n",
        "- \\frac{var(X)cov^2(X,T)}{var^2(X)} \n",
        "= \\frac{cov^2(X,T)}{var(X)}  $$\n",
        "<br><br>\n",
        "$$ \\frac{2cov^2(X,T)}{var(X)}\n",
        "- \\frac{cov^2(X,T)}{var(X)} \n",
        "= \\frac{cov^2(X,T)}{var(X)}  $$\n",
        "<br><br>\n",
        "$$ \\frac{cov^2(X,T)}{var(X)} = \\frac{cov^2(X,T)}{var(X)} $$"
      ]
    },
    {
      "cell_type": "markdown",
      "metadata": {
        "id": "CtEWSEcQhnie"
      },
      "source": [
        "**4)**\n",
        "\n",
        "a) Não foi apresentado ao gerente o modelo utilizado para chegar a este resultado, portanto, não há como ele saber se é um bom modelo ou não. Outro ponto é o fato do problema ocorrer raramente e uma acurácia de 99% informa que o problema ocorre uma vez para cada cem peças produzidas. Dependendo da situação, este na verdade pode ser um número considerado frequente. Existem casos onde admite-se problema uma vez a cada milhares de peças, ou ainda mais.\n",
        "\n",
        "b) Primeiramente verificar qual a baseline do modelo selecionado. Em seguida analisar as ocorrências passadas para se ter uma ideia do número de erros já ocorridos. Em terceiro lugar, repetir o procedimento com esse modelo usando parte das amostras selecionadas aleatoriamente e fazer uma média dos resultados obtidos. Assim, é mais fácil definir se o modelo é confiável e se o número apresentado pela métrica de acurácia é aceitável."
      ]
    }
  ]
}