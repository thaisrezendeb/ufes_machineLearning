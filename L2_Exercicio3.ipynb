{
  "nbformat": 4,
  "nbformat_minor": 0,
  "metadata": {
    "colab": {
      "name": "L2_Exercicio3.ipynb",
      "provenance": [],
      "authorship_tag": "ABX9TyN5/QpumgrGMYkygaV40Ba7",
      "include_colab_link": true
    },
    "kernelspec": {
      "name": "python3",
      "display_name": "Python 3"
    },
    "language_info": {
      "name": "python"
    }
  },
  "cells": [
    {
      "cell_type": "markdown",
      "metadata": {
        "id": "view-in-github",
        "colab_type": "text"
      },
      "source": [
        "<a href=\"https://colab.research.google.com/github/thaisrezendeb/ufes_machineLearning/blob/main/L2_Exercicio3.ipynb\" target=\"_parent\"><img src=\"https://colab.research.google.com/assets/colab-badge.svg\" alt=\"Open In Colab\"/></a>"
      ]
    },
    {
      "cell_type": "markdown",
      "metadata": {
        "id": "MFXSk7J720oR"
      },
      "source": [
        "**3) Dada a rede bayesiana abaixo e a base de dados trânsito.txt, obtenha (na base de dados os valores 0 indicam que o evento não aconteceu, enquanto 1 aconteceu, sendo C chuva, F feriado, E engarrafamento, R ruas alagadas e A acidente):**\n",
        "\n",
        "<figure>\n",
        "<center>\n",
        "<img src='https://drive.google.com/uc?id=15p2N6pjJRcEtdVLa5yZLICmg7Xs6VOFm' />\n",
        "</figure>\n",
        "\n",
        "**a) As probabilidades condicionais e a priori de cada nó necessários para o uso da rede.**"
      ]
    },
    {
      "cell_type": "code",
      "metadata": {
        "id": "QmPl0NS4f-52"
      },
      "source": [
        "import pandas as pd\n",
        "\n",
        "transito = pd.read_csv(\"transito.txt\", sep=\"\\s+\")"
      ],
      "execution_count": null,
      "outputs": []
    },
    {
      "cell_type": "code",
      "metadata": {
        "id": "jEbi0UFI2yTS",
        "colab": {
          "base_uri": "https://localhost:8080/"
        },
        "outputId": "1796ff08-8c78-49c8-adca-5cd4ad1f6f4b"
      },
      "source": [
        "#Probabilidades necessárias para o uso da rede\n",
        "# P(C)\n",
        "# P(F)\n",
        "# P(E|C,F)\n",
        "# P(R|C)\n",
        "# P(A|R,E)\n",
        "\n",
        "p_c1 = transito[\"C\"].sum() / transito.shape[0]\n",
        "p_c0 = 1 - p_c1\n",
        "print(\"P(C=0) = {:.2f}%\".format(p_c0*100))\n",
        "print(\"P(C=1) = {:.2f}%\".format(p_c1*100))\n",
        "\n",
        "p_f1 = transito[\"F\"].sum() / transito.shape[0]\n",
        "p_f0 = 1 - p_f1\n",
        "print(\"\\nP(F=0) = {:.2f}%\".format(p_f0*100))\n",
        "print(\"P(F=1) = {:.2f}%\".format(p_f1*100))\n",
        "\n",
        "transito_c0f0 = transito[(transito[\"C\"] == 0) & (transito[\"F\"] == 0)]\n",
        "p_e1_c0_f0 = transito_c0f0[\"E\"].sum() / transito_c0f0.shape[0]\n",
        "p_e0_c0_f0 = 1 - p_e1_c0_f0\n",
        "print(\"\\nP(E=0|C=0,F=0) = {:.2f}%\".format(p_e0_c0_f0*100))\n",
        "print(\"P(E=1|C=0,F=0) = {:.2f}%\".format(p_e1_c0_f0*100))\n",
        "\n",
        "transito_c0f1 = transito[(transito[\"C\"] == 0) & (transito[\"F\"] == 1)]\n",
        "p_e1_c0_f1 = transito_c0f1[\"E\"].sum() / transito_c0f1.shape[0]\n",
        "p_e0_c0_f1 = 1 - p_e1_c0_f1\n",
        "print(\"P(E=0|C=0,F=1) = {:.2f}%\".format(p_e0_c0_f1*100))\n",
        "print(\"P(E=1|C=0,F=1) = {:.2f}%\".format(p_e1_c0_f1*100))\n",
        "\n",
        "transito_c1f0 = transito[(transito[\"C\"] == 1) & (transito[\"F\"] == 0)]\n",
        "p_e1_c1_f0 = transito_c1f0[\"E\"].sum() / transito_c1f0.shape[0]\n",
        "p_e0_c1_f0 = 1 - p_e1_c1_f0\n",
        "print(\"P(E=0|C=1,F=0) = {:.2f}%\".format(p_e0_c1_f0*100))\n",
        "print(\"P(E=1|C=1,F=0) = {:.2f}%\".format(p_e1_c1_f0*100))\n",
        "\n",
        "transito_c1f1 = transito[(transito[\"C\"] == 1) & (transito[\"F\"] == 1)]\n",
        "p_e1_c1_f1 = transito_c1f1[\"E\"].sum() / transito_c1f1.shape[0]\n",
        "p_e0_c1_f1 = 1 - p_e1_c1_f1\n",
        "print(\"P(E=0|C=1,F=1) = {:.2f}%\".format(p_e0_c1_f1*100))\n",
        "print(\"P(E=1|C=1,F=1) = {:.2f}%\".format(p_e1_c1_f1*100))\n",
        "\n",
        "transito_c0 = transito[transito[\"C\"] == 0]\n",
        "p_r1_c0 = transito_c0[\"R\"].sum() / transito_c0.shape[0]\n",
        "p_r0_c0 = 1 - p_r1_c0\n",
        "print(\"\\nP(R=0|C=0) = {:.2f}%\".format(p_r0_c0*100))\n",
        "print(\"P(R=1|C=0) = {:.2f}%\".format(p_r1_c0*100))\n",
        "\n",
        "transito_c1 = transito[transito[\"C\"] == 1]\n",
        "p_r1_c1 = transito_c1[\"R\"].sum() / transito_c1.shape[0]\n",
        "p_r0_c1 = 1 - p_r1_c1\n",
        "print(\"P(R=0|C=1) = {:.2f}%\".format(p_r0_c1*100))\n",
        "print(\"P(R=1|C=1) = {:.2f}%\".format(p_r1_c1*100))\n",
        "\n",
        "transito_r0e0 = transito[(transito[\"R\"] == 0) & (transito[\"E\"] == 0)]\n",
        "p_a1_r0_e0 = transito_r0e0[\"A\"].sum() / transito_r0e0.shape[0]\n",
        "p_a0_r0_e0 = 1 - p_a1_r0_e0\n",
        "print(\"\\nP(A=0|R=0,E=0) = {:.2f}%\".format(p_a0_r0_e0*100))\n",
        "print(\"P(A=1|R=0,E=0) = {:.2f}%\".format(p_a1_r0_e0*100))\n",
        "\n",
        "transito_r0e1 = transito[(transito[\"R\"] == 0) & (transito[\"E\"] == 1)]\n",
        "p_a1_r0_e1 = transito_r0e1[\"A\"].sum() / transito_r0e1.shape[0]\n",
        "p_a0_r0_e1 = 1 - p_a1_r0_e1\n",
        "print(\"P(A=0|R=0,E=1) = {:.2f}%\".format(p_a0_r0_e1*100))\n",
        "print(\"P(A=1|R=0,E=1) = {:.2f}%\".format(p_a1_r0_e1*100))\n",
        "\n",
        "transito_r1e0 = transito[(transito[\"R\"] == 1) & (transito[\"E\"] == 0)]\n",
        "p_a1_r1_e0 = transito_r1e0[\"A\"].sum() / transito_r1e0.shape[0]\n",
        "p_a0_r1_e0 = 1 - p_a1_r1_e0\n",
        "print(\"P(A=0|R=1,E=0) = {:.2f}%\".format(p_a0_r1_e0*100))\n",
        "print(\"P(A=1|R=1,E=0) = {:.2f}%\".format(p_a1_r1_e0*100))\n",
        "\n",
        "transito_r1e1 = transito[(transito[\"R\"] == 1) & (transito[\"E\"] == 1)]\n",
        "p_a1_r1_e1 = transito_r1e1[\"A\"].sum() / transito_r1e1.shape[0]\n",
        "p_a0_r1_e1 = 1 - p_a1_r1_e1\n",
        "print(\"P(A=0|R=1,E=1) = {:.2f}%\".format(p_a0_r1_e1*100))\n",
        "print(\"P(A=1|R=1,E=1) = {:.2f}%\".format(p_a1_r1_e1*100))"
      ],
      "execution_count": null,
      "outputs": [
        {
          "output_type": "stream",
          "text": [
            "P(C=0) = 52.00%\n",
            "P(C=1) = 48.00%\n",
            "\n",
            "P(F=0) = 78.00%\n",
            "P(F=1) = 22.00%\n",
            "\n",
            "P(E=0|C=0,F=0) = 100.00%\n",
            "P(E=1|C=0,F=0) = 0.00%\n",
            "P(E=0|C=0,F=1) = 20.00%\n",
            "P(E=1|C=0,F=1) = 80.00%\n",
            "P(E=0|C=1,F=0) = 33.33%\n",
            "P(E=1|C=1,F=0) = 66.67%\n",
            "P(E=0|C=1,F=1) = 0.00%\n",
            "P(E=1|C=1,F=1) = 100.00%\n",
            "\n",
            "P(R=0|C=0) = 100.00%\n",
            "P(R=1|C=0) = 0.00%\n",
            "P(R=0|C=1) = 20.83%\n",
            "P(R=1|C=1) = 79.17%\n",
            "\n",
            "P(A=0|R=0,E=0) = 87.50%\n",
            "P(A=1|R=0,E=0) = 12.50%\n",
            "P(A=0|R=0,E=1) = 85.71%\n",
            "P(A=1|R=0,E=1) = 14.29%\n",
            "P(A=0|R=1,E=0) = 25.00%\n",
            "P(A=1|R=1,E=0) = 75.00%\n",
            "P(A=0|R=1,E=1) = 13.33%\n",
            "P(A=1|R=1,E=1) = 86.67%\n"
          ],
          "name": "stdout"
        }
      ]
    },
    {
      "cell_type": "markdown",
      "metadata": {
        "id": "s3-R_SOthazP"
      },
      "source": [
        "**b) A probabilidade de acontecer acidente tal que foram observados engarrafamento e as ruas não estão alagadas [P(Acidente = 1|Engarrafamento = 1, Ruas alagadas = 0)]**\n",
        "\n",
        "Como os valores de Engarrafamento e Ruas Alagadas são conhecidos, as informações de Chuva e Feriado não influenciam no resultado de Acidente."
      ]
    },
    {
      "cell_type": "code",
      "metadata": {
        "colab": {
          "base_uri": "https://localhost:8080/"
        },
        "id": "FgVCY53hhfmT",
        "outputId": "db139070-8d19-46b5-b41f-fee9bc9e08e3"
      },
      "source": [
        "#P(A=1|R=0,E=1) = P(A=1,R=0,E=1)/P(R=0,E=1)\n",
        "\n",
        "#Resultado já calculado anteriormente\n",
        "# P(A=1|R=0,E=1) = 14.29%\n",
        "\n",
        "#Pelo cálculo da rede baysiana\n",
        "p_a1_r0_e1_ = p_a1_r0_e1 * p_r0_c0 * p_e1_c0_f0 * p_c0 * p_f0 \\\n",
        "            + p_a1_r0_e1 * p_r0_c0 * p_e1_c0_f1 * p_c0 * p_f1 \\\n",
        "            + p_a1_r0_e1 * p_r0_c1 * p_e1_c1_f0 * p_c1 * p_f0 \\\n",
        "            + p_a1_r0_e1 * p_r0_c1 * p_e1_c1_f1 * p_c1 * p_f1\n",
        "\n",
        "p_r0_e1 = p_a0_r0_e1 * p_r0_c0 * p_e1_c0_f0 * p_c0 * p_f0 \\\n",
        "        + p_a0_r0_e1 * p_r0_c0 * p_e1_c0_f1 * p_c0 * p_f1 \\\n",
        "        + p_a0_r0_e1 * p_r0_c1 * p_e1_c1_f0 * p_c1 * p_f0 \\\n",
        "        + p_a0_r0_e1 * p_r0_c1 * p_e1_c1_f1 * p_c1 * p_f1 \\\n",
        "        + p_a1_r0_e1 * p_r0_c0 * p_e1_c0_f0 * p_c0 * p_f0 \\\n",
        "        + p_a1_r0_e1 * p_r0_c0 * p_e1_c0_f1 * p_c0 * p_f1 \\\n",
        "        + p_a1_r0_e1 * p_r0_c1 * p_e1_c1_f0 * p_c1 * p_f0 \\\n",
        "        + p_a1_r0_e1 * p_r0_c1 * p_e1_c1_f1 * p_c1 * p_f1\n",
        "\n",
        "print(\"P(A=1|R=0,E=1) = {:.2f}%\".format(p_a1_r0_e1_/p_r0_e1*100))\n"
      ],
      "execution_count": null,
      "outputs": [
        {
          "output_type": "stream",
          "text": [
            "P(A=1|R=0,E=1) = 14.29%\n"
          ],
          "name": "stdout"
        }
      ]
    },
    {
      "cell_type": "markdown",
      "metadata": {
        "id": "XKQQgGXjjy9Z"
      },
      "source": [
        "**c) A probabilidade de não acontecer acidente tal que foram observados chuva e feriado [P(Acidente = 0|Chuva = 1, Feriado = 1)]**"
      ]
    },
    {
      "cell_type": "code",
      "metadata": {
        "colab": {
          "base_uri": "https://localhost:8080/"
        },
        "id": "9f4fsFFMjypP",
        "outputId": "b404a570-be28-4417-ff2c-282b41196cd5"
      },
      "source": [
        "#P(A=0|C=1,F=1) = P(A=1,C=1,F=1)/P(C=1,F=1)\n",
        "\n",
        "#P(A=0,C=1,F=1) = P(A=0|R=0,E=0)*P(R=0|C=1)*P(E=0|C=1,F=1)*P(C=1)*P(F=1)\n",
        "#               + P(A=0|R=0,E=1)*P(R=0|C=1)*P(E=1|C=1,F=1)*P(C=1)*P(F=1)\n",
        "#               + P(A=0|R=1,E=0)*P(R=1|C=1)*P(E=0|C=1,F=1)*P(C=1)*P(F=1)\n",
        "#               + P(A=0|R=1,E=1)*P(R=1|C=1)*P(E=1|C=1,F=1)*P(C=1)*P(F=1)\n",
        "\n",
        "p_a0_c1_f1 = p_a0_r0_e0 * p_r0_c1 * p_e0_c1_f1 * p_c1 * p_f1 \\\n",
        "           + p_a0_r0_e1 * p_r0_c1 * p_e1_c1_f1 * p_c1 * p_f1 \\\n",
        "           + p_a0_r1_e0 * p_r1_c1 * p_e0_c1_f1 * p_c1 * p_f1 \\\n",
        "           + p_a0_r1_e1 * p_r1_c1 * p_e1_c1_f1 * p_c1 * p_f1\n",
        "\n",
        "#P(C=1,F=1) = P(A=0|R=0,E=0)*P(R=0|C=1)*P(E=0|C=1,F=1)*P(C=1)*P(F=1)\n",
        "#           + P(A=0|R=0,E=1)*P(R=0|C=1)*P(E=1|C=1,F=1)*P(C=1)*P(F=1)\n",
        "#           + P(A=0|R=1,E=0)*P(R=1|C=1)*P(E=0|C=1,F=1)*P(C=1)*P(F=1) \n",
        "#           + P(A=0|R=1,E=1)*P(R=1|C=1)*P(E=1|C=1,F=1)*P(C=1)*P(F=1) \n",
        "#           + P(A=1|R=0,E=0)*P(R=0|C=1)*P(E=0|C=1,F=1)*P(C=1)*P(F=1)\n",
        "#           + P(A=1|R=0,E=1)*P(R=0|C=1)*P(E=1|C=1,F=1)*P(C=1)*P(F=1)\n",
        "#           + P(A=1|R=1,E=0)*P(R=1|C=1)*P(E=0|C=1,F=1)*P(C=1)*P(F=1)\n",
        "#           + P(A=1|R=1,E=1)*P(R=1|C=1)*P(E=1|C=1,F=1)*P(C=1)*P(F=1)\n",
        "\n",
        "p_c1_f1 = p_a0_r0_e0 * p_r0_c1 * p_e0_c1_f1 * p_c1 * p_f1 \\\n",
        "        + p_a0_r0_e1 * p_r0_c1 * p_e1_c1_f1 * p_c1 * p_f1 \\\n",
        "        + p_a0_r1_e0 * p_r1_c1 * p_e0_c1_f1 * p_c1 * p_f1 \\\n",
        "        + p_a0_r1_e1 * p_r1_c1 * p_e1_c1_f1 * p_c1 * p_f1 \\\n",
        "        + p_a1_r0_e0 * p_r0_c1 * p_e0_c1_f1 * p_c1 * p_f1 \\\n",
        "        + p_a1_r0_e1 * p_r0_c1 * p_e1_c1_f1 * p_c1 * p_f1 \\\n",
        "        + p_a1_r1_e0 * p_r1_c1 * p_e0_c1_f1 * p_c1 * p_f1 \\\n",
        "        + p_a1_r1_e1 * p_r1_c1 * p_e1_c1_f1 * p_c1 * p_f1\n",
        "\n",
        "print(\"P(A=0|C=1,F=1) = {:.2f}%\".format(p_a0_c1_f1/p_c1_f1*100))"
      ],
      "execution_count": null,
      "outputs": [
        {
          "output_type": "stream",
          "text": [
            "P(A=0|C=1,F=1) = 28.41%\n"
          ],
          "name": "stdout"
        }
      ]
    },
    {
      "cell_type": "markdown",
      "metadata": {
        "id": "9j_cATwWkXZc"
      },
      "source": [
        "**d) A probabilidade de ter acontecido engarrafamento tal que foi observado acidente [P(Engarrafamento = 1|Acidente = 1)]**"
      ]
    },
    {
      "cell_type": "code",
      "metadata": {
        "colab": {
          "base_uri": "https://localhost:8080/"
        },
        "id": "ptC3rGAYkZ2U",
        "outputId": "e9f0db7d-65e4-4c21-d462-f6b0a8306a57"
      },
      "source": [
        "# P(E=1|A=1) = P(E=1,A=1)/P(A=1)\n",
        "\n",
        "#P(E=1,A=1) = P(A=1|E=1,R=0)*P(R=0|C=0)*P(E=1|C=0,F=0)*P(C=0)*P(F=0)\n",
        "#           + P(A=1|E=1,R=0)*P(R=0|C=0)*P(E=1|C=0,F=1)*P(C=0)*P(F=1)\n",
        "#           + P(A=1|E=1,R=0)*P(R=0|C=1)*P(E=1|C=1,F=0)*P(C=1)*P(F=0)\n",
        "#           + P(A=1|E=1,R=0)*P(R=0|C=1)*P(E=1|C=1,F=1)*P(C=1)*P(F=1)\n",
        "#           + P(A=1|E=1,R=1)*P(R=1|C=0)*P(E=1|C=0,F=0)*P(C=0)*P(F=0)\n",
        "#           + P(A=1|E=1,R=1)*P(R=1|C=0)*P(E=1|C=0,F=1)*P(C=0)*P(F=1)\n",
        "#           + P(A=1|E=1,R=1)*P(R=1|C=1)*P(E=1|C=1,F=0)*P(C=1)*P(F=0)\n",
        "#           + P(A=1|E=1,R=1)*P(R=1|C=1)*P(E=1|C=1,F=1)*P(C=1)*P(F=1)\n",
        "\n",
        "p_e1_a1 = p_a1_r0_e1 * p_r0_c0 * p_e1_c0_f0 * p_c0 * p_f0 \\\n",
        "        + p_a1_r0_e1 * p_r0_c0 * p_e1_c0_f1 * p_c0 * p_f1 \\\n",
        "        + p_a1_r0_e1 * p_r0_c1 * p_e1_c1_f0 * p_c1 * p_f0 \\\n",
        "        + p_a1_r0_e1 * p_r0_c1 * p_e1_c1_f1 * p_c1 * p_f1 \\\n",
        "        + p_a1_r1_e1 * p_r1_c0 * p_e1_c0_f0 * p_c0 * p_f0 \\\n",
        "        + p_a1_r1_e1 * p_r1_c0 * p_e1_c0_f1 * p_c0 * p_f1 \\\n",
        "        + p_a1_r1_e1 * p_r1_c1 * p_e1_c1_f0 * p_c1 * p_f0 \\\n",
        "        + p_a1_r1_e1 * p_r1_c1 * p_e1_c1_f1 * p_c1 * p_f1\n",
        "\n",
        "#P(A=1) = P(A=1|E=0,R=0)*P(R=0|C=0)*P(E=0|C=0,F=0)*P(C=0)*P(F=0)\n",
        "#       + P(A=1|E=1,R=0)*P(R=0|C=0)*P(E=1|C=0,F=0)*P(C=0)*P(F=0)\n",
        "#       + P(A=1|E=0,R=1)*P(R=1|C=0)*P(E=0|C=0,F=0)*P(C=0)*P(F=0)\n",
        "#       + P(A=1|E=1,R=1)*P(R=1|C=0)*P(E=1|C=0,F=0)*P(C=0)*P(F=0)\n",
        "#       + P(A=1|E=0,R=0)*P(R=0|C=0)*P(E=0|C=0,F=1)*P(C=0)*P(F=1)\n",
        "#       + P(A=1|E=1,R=0)*P(R=0|C=0)*P(E=1|C=0,F=1)*P(C=0)*P(F=1)\n",
        "#       + P(A=1|E=0,R=1)*P(R=1|C=0)*P(E=0|C=0,F=1)*P(C=0)*P(F=1)\n",
        "#       + P(A=1|E=1,R=1)*P(R=1|C=0)*P(E=1|C=0,F=1)*P(C=0)*P(F=1)\n",
        "#       + P(A=1|E=0,R=0)*P(R=0|C=1)*P(E=0|C=1,F=0)*P(C=1)*P(F=0)\n",
        "#       + P(A=1|E=1,R=0)*P(R=0|C=1)*P(E=1|C=1,F=0)*P(C=1)*P(F=0)\n",
        "#       + P(A=1|E=0,R=1)*P(R=1|C=1)*P(E=0|C=1,F=0)*P(C=1)*P(F=0)\n",
        "#       + P(A=1|E=1,R=1)*P(R=1|C=1)*P(E=1|C=1,F=0)*P(C=1)*P(F=0)\n",
        "#       + P(A=1|E=0,R=0)*P(R=0|C=1)*P(E=0|C=1,F=1)*P(C=1)*P(F=1)\n",
        "#       + P(A=1|E=1,R=0)*P(R=0|C=1)*P(E=1|C=1,F=1)*P(C=1)*P(F=1)\n",
        "#       + P(A=1|E=0,R=1)*P(R=1|C=1)*P(E=0|C=1,F=1)*P(C=1)*P(F=1)\n",
        "#       + P(A=1|E=1,R=1)*P(R=1|C=1)*P(E=1|C=1,F=1)*P(C=1)*P(F=1)\n",
        "\n",
        "p_a1 = p_a1_r0_e0 * p_r0_c0 * p_e0_c0_f0 * p_c0 * p_f0 \\\n",
        "     + p_a1_r0_e1 * p_r0_c0 * p_e1_c0_f0 * p_c0 * p_f0 \\\n",
        "     + p_a1_r1_e0 * p_r1_c0 * p_e0_c0_f0 * p_c0 * p_f0 \\\n",
        "     + p_a1_r1_e1 * p_r1_c0 * p_e1_c0_f0 * p_c0 * p_f0 \\\n",
        "     + p_a1_r0_e0 * p_r0_c0 * p_e0_c0_f1 * p_c0 * p_f1 \\\n",
        "     + p_a1_r0_e1 * p_r0_c0 * p_e1_c0_f1 * p_c0 * p_f1 \\\n",
        "     + p_a1_r1_e0 * p_r1_c0 * p_e0_c0_f1 * p_c0 * p_f1 \\\n",
        "     + p_a1_r1_e1 * p_r1_c0 * p_e1_c0_f1 * p_c0 * p_f1 \\\n",
        "     + p_a1_r0_e0 * p_r0_c1 * p_e0_c1_f0 * p_c1 * p_f0 \\\n",
        "     + p_a1_r0_e1 * p_r0_c1 * p_e1_c1_f0 * p_c1 * p_f0 \\\n",
        "     + p_a1_r1_e0 * p_r1_c1 * p_e0_c1_f0 * p_c1 * p_f0 \\\n",
        "     + p_a1_r1_e1 * p_r1_c1 * p_e1_c1_f0 * p_c1 * p_f0 \\\n",
        "     + p_a1_r0_e0 * p_r0_c1 * p_e0_c1_f1 * p_c1 * p_f1 \\\n",
        "     + p_a1_r0_e1 * p_r0_c1 * p_e1_c1_f1 * p_c1 * p_f1 \\\n",
        "     + p_a1_r1_e0 * p_r1_c1 * p_e0_c1_f1 * p_c1 * p_f1 \\\n",
        "     + p_a1_r1_e1 * p_r1_c1 * p_e1_c1_f1 * p_c1 * p_f1\n",
        "\n",
        "print(\"P(E=1|A=1) = {:.2f}%\".format(p_e1_a1/p_a1*100))"
      ],
      "execution_count": null,
      "outputs": [
        {
          "output_type": "stream",
          "text": [
            "P(E=1|A=1) = 67.13%\n"
          ],
          "name": "stdout"
        }
      ]
    }
  ]
}