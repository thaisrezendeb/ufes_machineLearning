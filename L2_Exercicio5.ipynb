{
  "nbformat": 4,
  "nbformat_minor": 0,
  "metadata": {
    "colab": {
      "name": "L2_Exercicio5.ipynb",
      "provenance": [],
      "toc_visible": true,
      "authorship_tag": "ABX9TyPacfxXAZpx3MQNJSNfI4ri",
      "include_colab_link": true
    },
    "kernelspec": {
      "name": "python3",
      "display_name": "Python 3"
    },
    "language_info": {
      "name": "python"
    }
  },
  "cells": [
    {
      "cell_type": "markdown",
      "metadata": {
        "id": "view-in-github",
        "colab_type": "text"
      },
      "source": [
        "<a href=\"https://colab.research.google.com/github/thaisrezendeb/ufes_machineLearning/blob/main/L2_Exercicio5.ipynb\" target=\"_parent\"><img src=\"https://colab.research.google.com/assets/colab-badge.svg\" alt=\"Open In Colab\"/></a>"
      ]
    },
    {
      "cell_type": "markdown",
      "metadata": {
        "id": "HURt6_TbQcBG"
      },
      "source": [
        "**5) Para a base Car Evaluation (disponível em http://archive.ics.uci.edu/ml/) obtenha as regras de classificação usando o algoritmo de cobertura top-down (use a taxa de erro como função de avaliação).**"
      ]
    },
    {
      "cell_type": "code",
      "metadata": {
        "id": "c-r9hnjXP32o"
      },
      "source": [
        "import pandas as pd\n",
        "\n",
        "uri =  \"https://archive.ics.uci.edu/ml/machine-learning-databases/car/car.data\"\n",
        "car = pd.read_csv(uri, header=None)\n",
        "\n",
        "#Atributes:\n",
        "# 0 = buying: vhigh, high, med, low\n",
        "# 1 = maint: vhigh, high, med, low\n",
        "# 2 = doors: 2, 3, 4, 5more\n",
        "# 3 = persons: 2, 4, more\n",
        "# 4 = lug_boot: small, med, big\n",
        "# 5 = safety: low, med, high\n",
        "# 6 = class = unacc, acc, good, vgood \n",
        "\n",
        "columns_car = ['buying', 'maint', 'doors', 'persons', 'lug_boot', 'safety', 'class']\n",
        "\n",
        "def error_min(data, classe):\n",
        "  min_i = data.shape[1]\n",
        "  min_a = 'erro'\n",
        "  min_erro = 1\n",
        "\n",
        "  #Testa para cada atributo exceto 'class'\n",
        "  for i in range(0, data.shape[1]-1):\n",
        "    for a in data[i].unique():\n",
        "      data_a = data[data[i] == a]\n",
        "      erro = 1 - data_a[data_a[6] == classe].shape[0]/data_a.shape[0]\n",
        "      \n",
        "      if erro < min_erro:\n",
        "        min_erro = erro\n",
        "        min_a = a\n",
        "        min_i = i\n",
        "  \n",
        "  return min_i, min_a, min_erro"
      ],
      "execution_count": null,
      "outputs": []
    },
    {
      "cell_type": "code",
      "metadata": {
        "colab": {
          "base_uri": "https://localhost:8080/",
          "height": 175
        },
        "id": "xwb0Mc09Yz42",
        "outputId": "9edea671-7721-4e8d-ec3c-49b5ab99bd64"
      },
      "source": [
        "regras = pd.DataFrame(columns=[\"Classe\", \"Atributo\", \"Regra (=)\", \"Erro\"])\n",
        "\n",
        "#Para cada classe\n",
        "for c in car[6].unique():\n",
        "  #Erro sem nenhuma regra\n",
        "  last_err = 1 - car[car[6] == c].shape[0]/car.shape[0]\n",
        "  \n",
        "  car_copy = car\n",
        "  continua = True\n",
        "\n",
        "  while continua:\n",
        "    col, val, err = error_min(car_copy, c)\n",
        "    \n",
        "    if err < last_err: #Regra reduziu o erro\n",
        "      last_err = err\n",
        "      \n",
        "      #Adiciona na lista de regras\n",
        "      regras.loc[len(regras)] = [c, columns_car[col], val, err]\n",
        "\n",
        "      #Apaga amostras cobertas pela regra atual\n",
        "      car_copy = car_copy.drop(car_copy[car_copy[col] == val].index, axis=0)\n",
        "\n",
        "      if car_copy.shape[0] == 0: #Não há mais amostras para cobrir\n",
        "        continua = False\n",
        "    else:\n",
        "      #Nenhuma regra melhora a cobertura, precisa adicionar mais uma opção\n",
        "      continua = False\n",
        "\n",
        "regras"
      ],
      "execution_count": null,
      "outputs": [
        {
          "output_type": "execute_result",
          "data": {
            "text/html": [
              "<div>\n",
              "<style scoped>\n",
              "    .dataframe tbody tr th:only-of-type {\n",
              "        vertical-align: middle;\n",
              "    }\n",
              "\n",
              "    .dataframe tbody tr th {\n",
              "        vertical-align: top;\n",
              "    }\n",
              "\n",
              "    .dataframe thead th {\n",
              "        text-align: right;\n",
              "    }\n",
              "</style>\n",
              "<table border=\"1\" class=\"dataframe\">\n",
              "  <thead>\n",
              "    <tr style=\"text-align: right;\">\n",
              "      <th></th>\n",
              "      <th>Classe</th>\n",
              "      <th>Atributo</th>\n",
              "      <th>Regra (=)</th>\n",
              "      <th>Erro</th>\n",
              "    </tr>\n",
              "  </thead>\n",
              "  <tbody>\n",
              "    <tr>\n",
              "      <th>0</th>\n",
              "      <td>unacc</td>\n",
              "      <td>persons</td>\n",
              "      <td>2</td>\n",
              "      <td>0.000000</td>\n",
              "    </tr>\n",
              "    <tr>\n",
              "      <th>1</th>\n",
              "      <td>acc</td>\n",
              "      <td>safety</td>\n",
              "      <td>high</td>\n",
              "      <td>0.645833</td>\n",
              "    </tr>\n",
              "    <tr>\n",
              "      <th>2</th>\n",
              "      <td>vgood</td>\n",
              "      <td>safety</td>\n",
              "      <td>high</td>\n",
              "      <td>0.887153</td>\n",
              "    </tr>\n",
              "    <tr>\n",
              "      <th>3</th>\n",
              "      <td>good</td>\n",
              "      <td>buying</td>\n",
              "      <td>low</td>\n",
              "      <td>0.893519</td>\n",
              "    </tr>\n",
              "  </tbody>\n",
              "</table>\n",
              "</div>"
            ],
            "text/plain": [
              "  Classe Atributo Regra (=)      Erro\n",
              "0  unacc  persons         2  0.000000\n",
              "1    acc   safety      high  0.645833\n",
              "2  vgood   safety      high  0.887153\n",
              "3   good   buying       low  0.893519"
            ]
          },
          "metadata": {
            "tags": []
          },
          "execution_count": 2
        }
      ]
    },
    {
      "cell_type": "code",
      "metadata": {
        "id": "_Zeru0A9ZBNu"
      },
      "source": [
        "  #Sem restrição\n",
        "  car_c = car[car[6] == c]\n",
        "  erro = 1 - car_c.shape[0]/car.shape[0]\n",
        "  min_erro = erro\n",
        "  continua = True\n",
        "  count = 0\n",
        "\n",
        "  while continua:\n",
        "    min_a = c\n",
        "    min_i = 6\n",
        "\n",
        "    \n",
        "    print(\"Erro mínimo classe '{}': atributo '{}' | valor '{}' | erro = {:.2f}%\" \\\n",
        "                .format(c, columns_car[min_i], min_a, min_erro*100))\n",
        "  \n",
        "    count = count + 1\n",
        "    if car_c.shape[0] == 0 or min_erro < 0.1 or count > 10:\n",
        "      continua = False\n",
        "\n",
        "print(\"\")    \n",
        "regras"
      ],
      "execution_count": null,
      "outputs": []
    }
  ]
}