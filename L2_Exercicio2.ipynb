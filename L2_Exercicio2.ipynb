{
  "nbformat": 4,
  "nbformat_minor": 0,
  "metadata": {
    "colab": {
      "name": "L2_Exercicio2.ipynb",
      "provenance": [],
      "collapsed_sections": [],
      "authorship_tag": "ABX9TyMti85MhGeC4TyLqsrGzykZ",
      "include_colab_link": true
    },
    "kernelspec": {
      "name": "python3",
      "display_name": "Python 3"
    },
    "language_info": {
      "name": "python"
    }
  },
  "cells": [
    {
      "cell_type": "markdown",
      "metadata": {
        "id": "view-in-github",
        "colab_type": "text"
      },
      "source": [
        "<a href=\"https://colab.research.google.com/github/thaisrezendeb/ufes_machineLearning/blob/main/L2_Exercicio2.ipynb\" target=\"_parent\"><img src=\"https://colab.research.google.com/assets/colab-badge.svg\" alt=\"Open In Colab\"/></a>"
      ]
    },
    {
      "cell_type": "markdown",
      "metadata": {
        "id": "a003o9S0lr35"
      },
      "source": [
        "**2) Aplique o Naive Bayes sobre a base de dados Balance Scale (disponível em http://archive.ics.uci.edu/ml/) utilizando o procedimento de Hold-Out dez vezes, na proporção de 75% de amostras de treino e 25% de teste. Obtenha a acurácia média e o desvio padrão da acurácia. Realize os experimentos:**\n",
        "\n",
        "**a) Considerando uma distribuição Gaussiana dos atributos;**"
      ]
    },
    {
      "cell_type": "code",
      "metadata": {
        "id": "7Vqxj7Rxlo3Z"
      },
      "source": [
        "import pandas as pd\n",
        "import numpy as np\n",
        "import seaborn as sns\n",
        "\n",
        "hold = 10\n",
        "size_train = 0.75\n",
        "\n",
        "uri = \"https://archive.ics.uci.edu/ml/machine-learning-databases/balance-scale/balance-scale.data\"\n",
        "balance = pd.read_csv(uri, sep=\",\", header=None)\n",
        "\n",
        "def prob_gaussian(med, dp, x):\n",
        "  \n",
        "  pgauss = (1 / \\\n",
        "            (np.sqrt(2 * np.pi) * dp)) * np.exp(-((x-med)**2 / (2 * dp**2 )))\n",
        "\n",
        "  return pgauss"
      ],
      "execution_count": null,
      "outputs": []
    },
    {
      "cell_type": "code",
      "metadata": {
        "colab": {
          "base_uri": "https://localhost:8080/"
        },
        "id": "83Ul9gILNUhm",
        "outputId": "b32afda6-9756-475b-95bb-d988b9b59503"
      },
      "source": [
        "acuracia = np.zeros((hold))\n",
        "\n",
        "for i in range(0,hold):\n",
        "  acertos = 0\n",
        "\n",
        "  #Seleção aleatória das amostras\n",
        "  #np.random.seed(7)\n",
        "  sel_train = np.random.choice(balance.shape[0], round(balance.shape[0]*size_train), replace=False)\n",
        "  balance_train = balance.iloc[sel_train]\n",
        "  balance_test = balance.drop(sel_train)\n",
        "\n",
        "  #Cálculo de Naive Bayes - Classes: L, B, R\n",
        "  # Prioridades a priori\n",
        "  bt_l = balance_train[balance_train[0] == 'L']\n",
        "  p_l = (bt_l.shape[0] / balance_train.shape[0])\n",
        "\n",
        "  bt_b = balance_train[balance_train[0] == 'B']\n",
        "  p_b = (bt_b.shape[0] / balance_train.shape[0])\n",
        "\n",
        "  bt_r = balance_train[balance_train[0] == 'R']\n",
        "  p_r = (bt_r.shape[0] / balance_train.shape[0])\n",
        "\n",
        "  # Matriz de probabilidades gaussianas a posteriori para cada valor de atributo/classe \n",
        "  # Cada linha corresponde a uma classe\n",
        "  # (todos os quatro atributos variam de 1 a 5)\n",
        "  # Probabilidades de cada atributo para cada classe - P(Xn=val|C=c) \n",
        "  # Cada coluna corresponde a um valor de atributo (encadeados)\n",
        "  # Última posição de cada linha corresponde à probabilidade à priori da classe\n",
        "  p_x = np.zeros((3,21))\n",
        "  \n",
        "  #Probabilidades da classe L\n",
        "  med_l = np.array(bt_l.mean()) #Média de cada atributo\n",
        "  dp_l = np.array(bt_l.std()) #Desvio padrão de cada atributo\n",
        "  p_x[0,20] = p_l\n",
        "  for n in range(0,4): #atributos\n",
        "    for val in range(0,5): #valores\n",
        "      p_x[0,n*5+val] = prob_gaussian(med_l[n], dp_l[n], val+1)\n",
        "  \n",
        "  #Probabilidades da classe B\n",
        "  med_b = np.array(bt_b.mean()) #Média de cada atributo\n",
        "  dp_b = np.array(bt_b.std()) #Desvio padrão de cada atributo\n",
        "  p_x[1,20] = p_b\n",
        "  for n in range(0,4): #atributos\n",
        "    for val in range(0,5): #valores\n",
        "      p_x[1,n*5+val] = prob_gaussian(med_b[n], dp_b[n], val+1)\n",
        "\n",
        "  #Probabilidades da classe R\n",
        "  med_r = np.array(bt_r.mean()) #Média de cada atributo\n",
        "  dp_r = np.array(bt_r.std()) #Desvio padrão de cada atributo\n",
        "  p_x[2,20] = p_r\n",
        "  for n in range(0,4): #atributos\n",
        "    for val in range(0,5): #valores\n",
        "      p_x[2,n*5+val] = prob_gaussian(med_r[n], dp_r[n], val+1)\n",
        "\n",
        "  # Calculada a matriz de probabilidades sobre as amostras de treinamento,\n",
        "  # calcula-se a acurácia do algoritmo\n",
        "  for w,row in balance_test.iterrows():\n",
        "    max_p = 0\n",
        "    #Soma os percentuais de cada atributo\n",
        "    for j in range(0,3): #classes\n",
        "      total_p = p_x[j,20]  #probabilidade a priori\n",
        "      for k in range(0,4): #atributos\n",
        "        total_p = total_p * p_x[j,k*5+row[k+1]-1] \n",
        "    \n",
        "      if total_p > max_p:\n",
        "        max_p = total_p\n",
        "        new_class = {0: \"L\", 1: \"B\", 2: \"R\"}[j]\n",
        "\n",
        "    #Verificação de acerto\n",
        "    #print(row[0], new_class)\n",
        "    if row[0] == new_class:\n",
        "      acertos = acertos + 1\n",
        "\n",
        "  acuracia[i] = acertos / balance_test.shape[0]\n",
        "\n",
        "#Finalização dos cálculos\n",
        "#------------------------\n",
        "print(\"Acurácia média usando distribuição gaussiana: {:.2f}%\".format(acuracia.mean()*100))\n",
        "print(\"Desvio padrão acurácia: {:.3f}\".format(acuracia.std()))"
      ],
      "execution_count": null,
      "outputs": [
        {
          "output_type": "stream",
          "text": [
            "Acurácia média usando distribuição gaussiana: 90.83%\n",
            "Desvio padrão acurácia: 0.021\n"
          ],
          "name": "stdout"
        }
      ]
    },
    {
      "cell_type": "markdown",
      "metadata": {
        "id": "_ezGCqA0inE4"
      },
      "source": [
        "**b) Discretizando os valores (em 5 bins cada atributo);**"
      ]
    },
    {
      "cell_type": "markdown",
      "metadata": {
        "id": "v905uVuMZW2m"
      },
      "source": [
        "Como o valores dos atributos já são discretizados e com valores de 1 a 5, não há necessidade de criar os bins para os atributos. Porém, caso houvesse necessidade, poderia-se escolher a seguinte regra de discretização:\n",
        "\n",
        "* ]0,1] = 1\n",
        "* ]1,2] = 2\n",
        "* ]2,3] = 3\n",
        "* ]3,4] = 4\n",
        "* ]4,5] = 5\n"
      ]
    },
    {
      "cell_type": "code",
      "metadata": {
        "colab": {
          "base_uri": "https://localhost:8080/"
        },
        "id": "61Tnj0CDmiPE",
        "outputId": "9d2099e4-bc5f-4a59-8e44-73580bb82bf7"
      },
      "source": [
        "#Discretização dos atributos em código\n",
        "#for n in range(0,5):\n",
        "#  balance[(balance > n) & (balance <= n+1)] = n+1\n",
        "\n",
        "acuracia = np.zeros((hold))\n",
        "\n",
        "for i in range(0,hold):\n",
        "  acertos = 0\n",
        "\n",
        "  #Seleção aleatória das amostras\n",
        "  sel_train = np.random.choice(balance.shape[0], round(balance.shape[0]*size_train), replace=False)\n",
        "  balance_train = balance.iloc[sel_train]\n",
        "  balance_test = balance.drop(sel_train)\n",
        "\n",
        "  #Cálculo de Naive Bayes - Classes: L, B, R\n",
        "  # Prioridades a priori\n",
        "  bt_l = balance_train[balance_train[0] == 'L']\n",
        "  p_l = (bt_l.shape[0] / balance_train.shape[0])\n",
        "\n",
        "  bt_b = balance_train[balance_train[0] == 'B']\n",
        "  p_b = (bt_b.shape[0] / balance_train.shape[0])\n",
        "\n",
        "  bt_r = balance_train[balance_train[0] == 'R']\n",
        "  p_r = (bt_r.shape[0] / balance_train.shape[0])\n",
        "\n",
        "  # Matriz de probabilidades gaussianas a posteriori para cada valor de atributo/classe \n",
        "  # Cada linha corresponde a uma classe\n",
        "  # (todos os quatro atributos variam de 1 a 5)\n",
        "  # Probabilidades de cada atributo para cada classe - P(Xn=val|C=c) \n",
        "  # Cada coluna corresponde a um valor de atributo (encadeados)\n",
        "  # Última posição de cada linha corresponde à probabilidade à priori da classe\n",
        "  p_x = np.zeros((3,21))\n",
        "  \n",
        "  #Probabilidades condicionais da classe L\n",
        "  p_x[0,20] = p_l\n",
        "  for n in range(0,4): #atributos\n",
        "    for val in range(0,5): #valores\n",
        "      p_x[0,n*5+val] = (bt_l[bt_l[n+1] == val+1].shape[0] / bt_l.shape[0])\n",
        "  \n",
        "  #Probabilidades condicionais da classe B\n",
        "  p_x[1,20] = p_b\n",
        "  for n in range(0,4): #atributos\n",
        "    for val in range(0,5): #valores\n",
        "      p_x[1,n*5+val] = (bt_b[bt_b[n+1] == val+1].shape[0] / bt_b.shape[0])\n",
        "  \n",
        "  #Probabilidades condicionais da classe R\n",
        "  p_x[2,20] = p_r\n",
        "  for n in range(0,4): #atributos\n",
        "    for val in range(0,5): #valores\n",
        "      p_x[2,n*5+val] = (bt_r[bt_r[n+1] == val+1].shape[0] / bt_r.shape[0])\n",
        "  \n",
        "  # Calculada a matriz de probabilidades sobre as amostras de treinamento,\n",
        "  # calcula-se a acurácia do algoritmo\n",
        "  for w,row in balance_test.iterrows():\n",
        "    max_p = 0\n",
        "    #Soma os percentuais de cada atributo\n",
        "    for j in range(0,3): #classes\n",
        "      total_p = p_x[j,20]  #probabilidade a priori\n",
        "      for k in range(0,4): #atributos\n",
        "        total_p = total_p * p_x[j,k*5+row[k+1]-1] \n",
        "    \n",
        "      if total_p > max_p:\n",
        "        max_p = total_p\n",
        "        new_class = {0: \"L\", 1: \"B\", 2: \"R\"}[j]\n",
        "\n",
        "    #Verificação de acerto\n",
        "    #print(row[0], new_class)\n",
        "    if row[0] == new_class:\n",
        "      acertos = acertos + 1\n",
        "\n",
        "  acuracia[i] = acertos / balance_test.shape[0]\n",
        "\n",
        "#Finalização dos cálculos\n",
        "#------------------------\n",
        "print(\"Acurácia média: {:.2f}%\".format(acuracia.mean()*100))\n",
        "print(\"Desvio padrão acurácia: {:.3f}\".format(acuracia.std()))"
      ],
      "execution_count": null,
      "outputs": [
        {
          "output_type": "stream",
          "text": [
            "Acurácia média: 89.23%\n",
            "Desvio padrão acurácia: 0.021\n"
          ],
          "name": "stdout"
        }
      ]
    },
    {
      "cell_type": "markdown",
      "metadata": {
        "id": "k1njC6dFeWD7"
      },
      "source": [
        "**c) Discretize os valore da mesma forma que em b) usando a suavização de Laplace.**"
      ]
    },
    {
      "cell_type": "code",
      "metadata": {
        "colab": {
          "base_uri": "https://localhost:8080/"
        },
        "id": "otAXN4VseadR",
        "outputId": "a214bdbc-b81b-47ee-ad5c-9f5100793a63"
      },
      "source": [
        "#Discretização dos atributos em código\n",
        "#for n in range(0,5):\n",
        "#  balance[(balance > n) & (balance <= n+1)] = n+1\n",
        "\n",
        "acuracia = np.zeros((hold))\n",
        "\n",
        "for i in range(0,hold):\n",
        "  acertos = 0\n",
        "\n",
        "  #Seleção aleatória das amostras\n",
        "  sel_train = np.random.choice(balance.shape[0], round(balance.shape[0]*size_train), replace=False)\n",
        "  balance_train = balance.iloc[sel_train]\n",
        "  balance_test = balance.drop(sel_train)\n",
        "\n",
        "  #Cálculo de Naive Bayes - Classes: L, B, R\n",
        "  # Prioridades a priori com suavização de Laplace\n",
        "  bt_l = balance_train[balance_train[0] == 'L']\n",
        "  p_l = ((bt_l.shape[0]+1) / (balance_train.shape[0]+3))\n",
        "\n",
        "  bt_b = balance_train[balance_train[0] == 'B']\n",
        "  p_b = ((bt_b.shape[0]+1) / (balance_train.shape[0]+3))\n",
        "\n",
        "  bt_r = balance_train[balance_train[0] == 'R']\n",
        "  p_r = ((bt_r.shape[0]+1) / (balance_train.shape[0]+3))\n",
        "\n",
        "  # Matriz de probabilidades gaussianas a posteriori para cada valor de atributo/classe \n",
        "  # Cada linha corresponde a uma classe\n",
        "  # (todos os quatro atributos variam de 1 a 5)\n",
        "  # Probabilidades de cada atributo para cada classe - P(Xn=val|C=c) \n",
        "  # Cada coluna corresponde a um valor de atributo (encadeados)\n",
        "  # Última posição de cada linha corresponde à probabilidade à priori da classe\n",
        "  p_x = np.zeros((3,21))\n",
        "  \n",
        "  #Probabilidades condicionais da classe L com suavização por Laplace\n",
        "  p_x[0,20] = p_l\n",
        "  for n in range(0,4): #atributos\n",
        "    for val in range(0,5): #valores\n",
        "      p_x[0,n*5+val] = ((bt_l[bt_l[n+1] == val+1].shape[0]+1) / (bt_l.shape[0]+5))\n",
        "  \n",
        "  #Probabilidades condicionais da classe B com suavização por Laplace\n",
        "  p_x[1,20] = p_b\n",
        "  for n in range(0,4): #atributos\n",
        "    for val in range(0,5): #valores\n",
        "      p_x[1,n*5+val] = ((bt_b[bt_b[n+1] == val+1].shape[0]+1) / (bt_b.shape[0]+5))\n",
        "  \n",
        "  #Probabilidades condicionais da classe R com suavização por Laplace\n",
        "  p_x[2,20] = p_r\n",
        "  for n in range(0,4): #atributos\n",
        "    for val in range(0,5): #valores\n",
        "      p_x[2,n*5+val] = ((bt_r[bt_r[n+1] == val+1].shape[0]+1) / (bt_r.shape[0]+5))\n",
        "  \n",
        "  # Calculada a matriz de probabilidades sobre as amostras de treinamento,\n",
        "  # calcula-se a acurácia do algoritmo\n",
        "  for w,row in balance_test.iterrows():\n",
        "    max_p = 0\n",
        "    #Soma os percentuais de cada atributo\n",
        "    for j in range(0,3): #classes\n",
        "      total_p = p_x[j,20]  #probabilidade a priori\n",
        "      for k in range(0,4): #atributos\n",
        "        total_p = total_p * p_x[j,k*5+row[k+1]-1] \n",
        "    \n",
        "      if total_p > max_p:\n",
        "        max_p = total_p\n",
        "        new_class = {0: \"L\", 1: \"B\", 2: \"R\"}[j]\n",
        "\n",
        "    #Verificação de acerto\n",
        "    #print(row[0], new_class)\n",
        "    if row[0] == new_class:\n",
        "      acertos = acertos + 1\n",
        "\n",
        "  acuracia[i] = acertos / balance_test.shape[0]\n",
        "\n",
        "#Finalização dos cálculos\n",
        "#------------------------\n",
        "print(\"Acurácia média com suavização por Laplace: {:.2f}%\".format(acuracia.mean()*100))\n",
        "print(\"Desvio padrão acurácia: {:.3f}\".format(acuracia.std()))"
      ],
      "execution_count": null,
      "outputs": [
        {
          "output_type": "stream",
          "text": [
            "Acurácia média com suavização por Laplace: 90.58%\n",
            "Desvio padrão acurácia: 0.023\n"
          ],
          "name": "stdout"
        }
      ]
    }
  ]
}