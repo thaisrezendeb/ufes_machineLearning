{
  "nbformat": 4,
  "nbformat_minor": 0,
  "metadata": {
    "colab": {
      "name": "L2_Exercicio4.ipynb",
      "provenance": [],
      "authorship_tag": "ABX9TyM50mCPfB3vq/7CJ44Ai8uL",
      "include_colab_link": true
    },
    "kernelspec": {
      "name": "python3",
      "display_name": "Python 3"
    },
    "language_info": {
      "name": "python"
    }
  },
  "cells": [
    {
      "cell_type": "markdown",
      "metadata": {
        "id": "view-in-github",
        "colab_type": "text"
      },
      "source": [
        "<a href=\"https://colab.research.google.com/github/thaisrezendeb/ufes_machineLearning/blob/main/L2_Exercicio4.ipynb\" target=\"_parent\"><img src=\"https://colab.research.google.com/assets/colab-badge.svg\" alt=\"Open In Colab\"/></a>"
      ]
    },
    {
      "cell_type": "markdown",
      "metadata": {
        "id": "DZ8Eh2KNDshO"
      },
      "source": [
        "# Parte V – Métodos de Classificação Baseados em Procura\n",
        "\n",
        "**4) Para a base Servo (disponível em http://archive.ics.uci.edu/ml/):**\n",
        "\n",
        "**a) Construa uma árvore de regressão com dois níveis de nó de decisão (isto é, o primeiro nó de decisão (primeiro nível), os nós de decisão abaixo dele (segundo nível) e em seguida os nós folha) usando a medida de redução de desvio padrão. Selecione aleatoriamente 75% dos dados para treinamento que serão usados para construir a árvore. Retorne a estrutura da árvore construída.**\n",
        "\n"
      ]
    },
    {
      "cell_type": "code",
      "metadata": {
        "id": "sHQREV7LDkNa"
      },
      "source": [
        "import pandas as pd\n",
        "import numpy as np\n",
        "\n",
        "columns_servo = [\"motor\", \"screw\", \"pgain\", \"vgain\", \"class\"]\n",
        "uri = \"https://archive.ics.uci.edu/ml/machine-learning-databases/servo/servo.data\"\n",
        "servo = pd.read_csv(uri, header=None)#, names=columns_servo)\n",
        "\n",
        "#Conversões necessárias para usar o algoritmo\n",
        "servo.replace('A', 0, inplace=True)\n",
        "servo.replace('B', 1, inplace=True)\n",
        "servo.replace('C', 2, inplace=True)\n",
        "servo.replace('D', 3, inplace=True)\n",
        "servo.replace('E', 4, inplace=True)\n",
        "\n",
        "#Seleção aleatória das amostras\n",
        "np.random.seed(7)\n",
        "size_train = 0.75\n",
        "sel_train = np.random.choice(servo.shape[0], round(servo.shape[0]*size_train), replace=False)\n",
        "servo_train = servo.iloc[sel_train]\n",
        "servo_test = servo.drop(sel_train)\n",
        "\n",
        "def sd_calc(input):\n",
        "  sd_calc = np.sqrt(\n",
        "              np.divide(\n",
        "                np.sum(\n",
        "                  np.power(input - input.mean(), 2)) \\\n",
        "                , input.shape[0]))\n",
        "            \n",
        "  return sd_calc\n",
        "\n",
        "def better_div(df: pd.DataFrame):\n",
        "  #Desvio padrão da variável alvo\n",
        "  sd_class = sd_calc(df[df.columns.values[-1]])\n",
        "\n",
        "  #Limites para divisão das amostras\n",
        "  limites = np.zeros((df.shape[1]))\n",
        "\n",
        "  #Seleção da melhor divisão para cada atributo\n",
        "  for i in df.columns:\n",
        "    if i == 4:\n",
        "      continue\n",
        "\n",
        "    max_sdr = -999\n",
        "    for j in df[i].unique():\n",
        "      servo_train_r = df[df[i] <= j]\n",
        "      servo_train_s = df.drop(servo_train_r.index)\n",
        "\n",
        "      sdr_r = sdr_s = 0\n",
        "      if servo_train_r.shape[0] > 0:\n",
        "        sdr_r = servo_train_r.shape[0]/df.shape[0] \\\n",
        "                  * sd_calc(servo_train_r[df.columns.values[-1]])\n",
        "\n",
        "      if servo_train_s.shape[0] > 0:\n",
        "        sdr_s = servo_train_s.shape[0]/df.shape[0] \\\n",
        "                  * sd_calc(servo_train_s[df.columns.values[-1]])\n",
        "      \n",
        "      sdr = sd_class - sdr_r - sdr_s\n",
        "      \n",
        "      if sdr > max_sdr:\n",
        "        max_sdr = sdr\n",
        "        limites[i] = j\n",
        "\n",
        "    print(\"SDR(class, {} <= {}) = {:.4f}\".format(columns_servo[i], limites[i], max_sdr))\n",
        "\n",
        "  return "
      ],
      "execution_count": null,
      "outputs": []
    },
    {
      "cell_type": "code",
      "metadata": {
        "colab": {
          "base_uri": "https://localhost:8080/"
        },
        "id": "4WeFCJ8Uu7AW",
        "outputId": "aa4dafc7-8454-4eab-e860-d5c3191b85f5"
      },
      "source": [
        "#Attribute Information:\n",
        "#1. motor: A,B,C,D,E\n",
        "#2. screw: A,B,C,D,E\n",
        "#3. pgain: 3,4,5,6\n",
        "#4. vgain: 1,2,3,4,5\n",
        "#5. class: 0.13 to 7.10\n",
        "\n",
        "better_div(servo_train)"
      ],
      "execution_count": null,
      "outputs": [
        {
          "output_type": "stream",
          "text": [
            "SDR(class, motor <= 1.0) = 0.0489\n",
            "SDR(class, screw <= 0.0) = 0.0581\n",
            "SDR(class, pgain <= 3.0) = 0.8647\n",
            "SDR(class, vgain <= 2.0) = 0.3659\n"
          ],
          "name": "stdout"
        }
      ]
    },
    {
      "cell_type": "markdown",
      "metadata": {
        "id": "YrctaG0l83Cj"
      },
      "source": [
        "Baseados nos cálculos de redução do desvio padrão, o nó de decisão do primeiro nível é \"pgain\" com divisão Nr = {3} e Ns = {4,5,6}."
      ]
    },
    {
      "cell_type": "code",
      "metadata": {
        "colab": {
          "base_uri": "https://localhost:8080/"
        },
        "id": "JqgK4mcIKIin",
        "outputId": "1d6979fc-b01a-4e00-b1d9-c9728ffea5ad"
      },
      "source": [
        "#Definição dos nós do segundo nível\n",
        "\n",
        "#Para a aresta R\n",
        "servo_r = servo_train[servo_train[2] <= 3]\n",
        "servo_r = servo_r.drop(2, axis=1)\n",
        "better_div(servo_r)"
      ],
      "execution_count": null,
      "outputs": [
        {
          "output_type": "stream",
          "text": [
            "SDR(class, motor <= 1.0) = 0.4947\n",
            "SDR(class, screw <= 0.0) = 0.2918\n",
            "SDR(class, vgain <= 1.0) = 0.0379\n"
          ],
          "name": "stdout"
        }
      ]
    },
    {
      "cell_type": "markdown",
      "metadata": {
        "id": "nqW1wOWMFGIR"
      },
      "source": [
        "Para o nó da aresta R será considerado o atributo \"motor\" com divisão Nr = {A,B} e Ns = {C,D,E}"
      ]
    },
    {
      "cell_type": "code",
      "metadata": {
        "colab": {
          "base_uri": "https://localhost:8080/"
        },
        "id": "dhSpIOGAqdnM",
        "outputId": "3f428605-a402-4e24-92a6-0297815bcbfb"
      },
      "source": [
        "#Para a aresta S\n",
        "servo_s = servo_train.drop(servo_r.index)\n",
        "servo_s = servo_s.drop(2, axis=1)\n",
        "better_div(servo_s)"
      ],
      "execution_count": null,
      "outputs": [
        {
          "output_type": "stream",
          "text": [
            "SDR(class, motor <= 3.0) = 0.0010\n",
            "SDR(class, screw <= 1.0) = 0.0212\n",
            "SDR(class, vgain <= 3.0) = 0.0207\n"
          ],
          "name": "stdout"
        }
      ]
    },
    {
      "cell_type": "markdown",
      "metadata": {
        "id": "tDvF5X5iFh9L"
      },
      "source": [
        "O nó da aresta S será o atributo \"screw\" com divisão Nr = {A,B} e Ns = {C,D,E}. Portanto, a árvore de regressão será:"
      ]
    },
    {
      "cell_type": "code",
      "metadata": {
        "colab": {
          "base_uri": "https://localhost:8080/"
        },
        "id": "Faj9b1leKhh-",
        "outputId": "9acd8963-c152-42b5-de25-20301e9e4350"
      },
      "source": [
        "#Médias para folhas\n",
        "\n",
        "folha1 = servo_train[(servo_train[2] <= 3) & (servo_train[0] <= 1)]\n",
        "folha1_val = folha1[4].mean()\n",
        "print(\"Folha 1 -> # amostras: {} - média: {:.4f}\".format(folha1.shape[0], folha1_val))\n",
        "\n",
        "folha2 = servo_train[(servo_train[2] <= 3) & (servo_train[0] > 1)]\n",
        "folha2_val = folha2[4].mean()\n",
        "print(\"Folha 2 -> # amostras: {} - média: {:.4f}\".format(folha2.shape[0], folha2_val))\n",
        "\n",
        "folha3 = servo_train[(servo_train[2] > 3) & (servo_train[1] <= 1)]\n",
        "folha3_val = folha3[4].mean()\n",
        "print(\"Folha 3 -> # amostras: {} - média: {:.4f}\".format(folha3.shape[0], folha3_val))\n",
        "\n",
        "folha4 = servo_train[(servo_train[2] > 3) & (servo_train[1] > 1)]\n",
        "folha4_val = folha4[4].mean()\n",
        "print(\"Folha 4 -> # amostras: {} - média: {:.4f}\".format(folha4.shape[0], folha4_val))\n"
      ],
      "execution_count": null,
      "outputs": [
        {
          "output_type": "stream",
          "text": [
            "Folha 1 -> # amostras: 17 - média: 4.5823\n",
            "Folha 2 -> # amostras: 25 - média: 2.3960\n",
            "Folha 3 -> # amostras: 39 - média: 0.7284\n",
            "Folha 4 -> # amostras: 44 - média: 0.5250\n"
          ],
          "name": "stdout"
        }
      ]
    },
    {
      "cell_type": "markdown",
      "metadata": {
        "id": "agAkf3A9MyW0"
      },
      "source": [
        "A árvore final é:\n",
        "<figure>\n",
        "<center>\n",
        "<img src='https://drive.google.com/uc?id=1rT71wQvD1B9znPJyZOaWbHlGp7nIw7pD' />\n",
        "</center>\n",
        "</figure>\n"
      ]
    },
    {
      "cell_type": "markdown",
      "metadata": {
        "id": "XzDsleqYD9MJ"
      },
      "source": [
        "**b) Use os restantes 25% dos dados para avaliação. Retorne a medida de RMSE.**"
      ]
    },
    {
      "cell_type": "code",
      "metadata": {
        "colab": {
          "base_uri": "https://localhost:8080/"
        },
        "id": "uH3n7Ve3LP44",
        "outputId": "2f85f4a5-e6e0-43b5-cdf8-dcfb6876db70"
      },
      "source": [
        "rmse = 0\n",
        "\n",
        "for n,row in servo_test.iterrows():\n",
        "  if row[2] <= 3:\n",
        "    if row[0] <= 1:\n",
        "      new_class = folha1_val\n",
        "    else:\n",
        "      new_class = folha2_val\n",
        "  else:\n",
        "    if row[1] <= 1:\n",
        "      new_class = folha3_val\n",
        "    else:\n",
        "      new_class = folha4_val\n",
        "  \n",
        "  rmse = rmse + np.power(row[4] - new_class, 2)\n",
        "\n",
        "rmse = np.sqrt(rmse/servo_test.shape[0])\n",
        "print(\"RMSE = {}\".format(rmse))"
      ],
      "execution_count": null,
      "outputs": [
        {
          "output_type": "stream",
          "text": [
            "RMSE = 0.6159676934967783\n"
          ],
          "name": "stdout"
        }
      ]
    },
    {
      "cell_type": "code",
      "metadata": {
        "id": "NlJO20OHjEM7"
      },
      "source": [
        "#from sklearn.tree import DecisionTreeRegressor\n",
        "#import matplotlib.pyplot as plt\n",
        "#from sklearn import tree\n",
        "\n",
        "#X = servo_train.iloc[:,:4]\n",
        "#y = servo_train[4]\n",
        "\n",
        "#regressor = DecisionTreeRegressor(max_depth=2, random_state=0)\n",
        "#regressor.fit(X,y)\n",
        "\n",
        "#x_test = servo_test.iloc[:,:4]\n",
        "#y_pre = regressor.predict(x_test)\n",
        "\n",
        "#tree.plot_tree(regressor, feature_names=columns_servo, filled=True)"
      ],
      "execution_count": null,
      "outputs": []
    }
  ]
}